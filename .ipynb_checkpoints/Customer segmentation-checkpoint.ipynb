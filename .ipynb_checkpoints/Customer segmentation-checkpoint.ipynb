{
 "cells": [
  {
   "cell_type": "code",
   "execution_count": 1,
   "metadata": {},
   "outputs": [],
   "source": [
    "import numpy as np\n",
    "import pandas as pd\n",
    "import matplotlib.cm as cm\n",
    "import pycountry_convert as pc\n",
    "import matplotlib.pyplot as plt\n",
    "from IPython.display import display, HTML\n",
    "from collections import Counter, defaultdict\n",
    "\n",
    "from nltk.corpus import stopwords\n",
    "from nltk.stem import PorterStemmer, LancasterStemmer\n",
    "from nltk.tokenize import sent_tokenize, word_tokenize\n",
    "\n",
    "from sklearn.cluster import KMeans\n",
    "from sklearn.metrics import silhouette_score, silhouette_samples\n",
    "from sklearn.preprocessing import MinMaxScaler\n",
    "from sklearn.feature_extraction.text import CountVectorizer\n"
   ]
  },
  {
   "cell_type": "code",
   "execution_count": 6,
   "metadata": {
    "scrolled": false
   },
   "outputs": [
    {
     "data": {
      "text/html": [
       "<div>\n",
       "<style scoped>\n",
       "    .dataframe tbody tr th:only-of-type {\n",
       "        vertical-align: middle;\n",
       "    }\n",
       "\n",
       "    .dataframe tbody tr th {\n",
       "        vertical-align: top;\n",
       "    }\n",
       "\n",
       "    .dataframe thead th {\n",
       "        text-align: right;\n",
       "    }\n",
       "</style>\n",
       "<table border=\"1\" class=\"dataframe\">\n",
       "  <thead>\n",
       "    <tr style=\"text-align: right;\">\n",
       "      <th></th>\n",
       "      <th>UserId</th>\n",
       "      <th>TransactionId</th>\n",
       "      <th>TransactionTime</th>\n",
       "      <th>ItemCode</th>\n",
       "      <th>ItemDescription</th>\n",
       "      <th>NumberOfItemsPurchased</th>\n",
       "      <th>CostPerItem</th>\n",
       "      <th>Country</th>\n",
       "    </tr>\n",
       "  </thead>\n",
       "  <tbody>\n",
       "    <tr>\n",
       "      <td>0</td>\n",
       "      <td>278166</td>\n",
       "      <td>6355745</td>\n",
       "      <td>Sat Feb 02 12:50:00 IST 2019</td>\n",
       "      <td>465549</td>\n",
       "      <td>FAMILY ALBUM WHITE PICTURE FRAME</td>\n",
       "      <td>6</td>\n",
       "      <td>11.73</td>\n",
       "      <td>United Kingdom</td>\n",
       "    </tr>\n",
       "    <tr>\n",
       "      <td>1</td>\n",
       "      <td>337701</td>\n",
       "      <td>6283376</td>\n",
       "      <td>Wed Dec 26 09:06:00 IST 2018</td>\n",
       "      <td>482370</td>\n",
       "      <td>LONDON BUS COFFEE MUG</td>\n",
       "      <td>3</td>\n",
       "      <td>3.52</td>\n",
       "      <td>United Kingdom</td>\n",
       "    </tr>\n",
       "    <tr>\n",
       "      <td>2</td>\n",
       "      <td>267099</td>\n",
       "      <td>6385599</td>\n",
       "      <td>Fri Feb 15 09:45:00 IST 2019</td>\n",
       "      <td>490728</td>\n",
       "      <td>SET 12 COLOUR PENCILS DOLLY GIRL</td>\n",
       "      <td>72</td>\n",
       "      <td>0.90</td>\n",
       "      <td>France</td>\n",
       "    </tr>\n",
       "    <tr>\n",
       "      <td>3</td>\n",
       "      <td>380478</td>\n",
       "      <td>6044973</td>\n",
       "      <td>Fri Jun 22 07:14:00 IST 2018</td>\n",
       "      <td>459186</td>\n",
       "      <td>UNION JACK FLAG LUGGAGE TAG</td>\n",
       "      <td>3</td>\n",
       "      <td>1.73</td>\n",
       "      <td>United Kingdom</td>\n",
       "    </tr>\n",
       "    <tr>\n",
       "      <td>4</td>\n",
       "      <td>-1</td>\n",
       "      <td>6143225</td>\n",
       "      <td>Mon Sep 10 11:58:00 IST 2018</td>\n",
       "      <td>1733592</td>\n",
       "      <td>WASHROOM METAL SIGN</td>\n",
       "      <td>3</td>\n",
       "      <td>3.40</td>\n",
       "      <td>United Kingdom</td>\n",
       "    </tr>\n",
       "  </tbody>\n",
       "</table>\n",
       "</div>"
      ],
      "text/plain": [
       "   UserId  TransactionId               TransactionTime  ItemCode  \\\n",
       "0  278166        6355745  Sat Feb 02 12:50:00 IST 2019    465549   \n",
       "1  337701        6283376  Wed Dec 26 09:06:00 IST 2018    482370   \n",
       "2  267099        6385599  Fri Feb 15 09:45:00 IST 2019    490728   \n",
       "3  380478        6044973  Fri Jun 22 07:14:00 IST 2018    459186   \n",
       "4      -1        6143225  Mon Sep 10 11:58:00 IST 2018   1733592   \n",
       "\n",
       "                     ItemDescription  NumberOfItemsPurchased  CostPerItem  \\\n",
       "0   FAMILY ALBUM WHITE PICTURE FRAME                       6        11.73   \n",
       "1              LONDON BUS COFFEE MUG                       3         3.52   \n",
       "2  SET 12 COLOUR PENCILS DOLLY GIRL                       72         0.90   \n",
       "3        UNION JACK FLAG LUGGAGE TAG                       3         1.73   \n",
       "4                WASHROOM METAL SIGN                       3         3.40   \n",
       "\n",
       "          Country  \n",
       "0  United Kingdom  \n",
       "1  United Kingdom  \n",
       "2          France  \n",
       "3  United Kingdom  \n",
       "4  United Kingdom  "
      ]
     },
     "execution_count": 6,
     "metadata": {},
     "output_type": "execute_result"
    }
   ],
   "source": [
    "df = pd.read_csv('transaction_data.csv')\n",
    "df.head()"
   ]
  },
  {
   "cell_type": "markdown",
   "metadata": {},
   "source": [
    "### Cleaning"
   ]
  },
  {
   "cell_type": "code",
   "execution_count": 7,
   "metadata": {},
   "outputs": [
    {
     "name": "stdout",
     "output_type": "stream",
     "text": [
      "<class 'pandas.core.frame.DataFrame'>\n",
      "RangeIndex: 1083818 entries, 0 to 1083817\n",
      "Data columns (total 8 columns):\n",
      "UserId                    1083818 non-null int64\n",
      "TransactionId             1083818 non-null int64\n",
      "TransactionTime           1083818 non-null object\n",
      "ItemCode                  1083818 non-null int64\n",
      "ItemDescription           1080910 non-null object\n",
      "NumberOfItemsPurchased    1083818 non-null int64\n",
      "CostPerItem               1083818 non-null float64\n",
      "Country                   1083818 non-null object\n",
      "dtypes: float64(1), int64(4), object(3)\n",
      "memory usage: 66.2+ MB\n"
     ]
    }
   ],
   "source": [
    "df.info() \n",
    "# item description has nans"
   ]
  },
  {
   "cell_type": "code",
   "execution_count": 8,
   "metadata": {},
   "outputs": [
    {
     "data": {
      "text/html": [
       "<div>\n",
       "<style scoped>\n",
       "    .dataframe tbody tr th:only-of-type {\n",
       "        vertical-align: middle;\n",
       "    }\n",
       "\n",
       "    .dataframe tbody tr th {\n",
       "        vertical-align: top;\n",
       "    }\n",
       "\n",
       "    .dataframe thead th {\n",
       "        text-align: right;\n",
       "    }\n",
       "</style>\n",
       "<table border=\"1\" class=\"dataframe\">\n",
       "  <thead>\n",
       "    <tr style=\"text-align: right;\">\n",
       "      <th></th>\n",
       "      <th>count</th>\n",
       "      <th>mean</th>\n",
       "      <th>std</th>\n",
       "      <th>min</th>\n",
       "      <th>25%</th>\n",
       "      <th>50%</th>\n",
       "      <th>75%</th>\n",
       "      <th>max</th>\n",
       "    </tr>\n",
       "  </thead>\n",
       "  <tbody>\n",
       "    <tr>\n",
       "      <td>UserId</td>\n",
       "      <td>1083818.0</td>\n",
       "      <td>2.410162e+05</td>\n",
       "      <td>142336.431264</td>\n",
       "      <td>-1.00</td>\n",
       "      <td>259392.00</td>\n",
       "      <td>302022.00</td>\n",
       "      <td>341355.0</td>\n",
       "      <td>384027.00</td>\n",
       "    </tr>\n",
       "    <tr>\n",
       "      <td>TransactionId</td>\n",
       "      <td>1083818.0</td>\n",
       "      <td>6.159417e+06</td>\n",
       "      <td>147634.093880</td>\n",
       "      <td>5900015.00</td>\n",
       "      <td>6026856.00</td>\n",
       "      <td>6166611.00</td>\n",
       "      <td>6289569.0</td>\n",
       "      <td>6397457.00</td>\n",
       "    </tr>\n",
       "    <tr>\n",
       "      <td>ItemCode</td>\n",
       "      <td>1083818.0</td>\n",
       "      <td>6.582687e+05</td>\n",
       "      <td>452631.426503</td>\n",
       "      <td>-1.00</td>\n",
       "      <td>460908.00</td>\n",
       "      <td>475293.00</td>\n",
       "      <td>488943.0</td>\n",
       "      <td>1894494.00</td>\n",
       "    </tr>\n",
       "    <tr>\n",
       "      <td>NumberOfItemsPurchased</td>\n",
       "      <td>1083818.0</td>\n",
       "      <td>2.865675e+01</td>\n",
       "      <td>654.243172</td>\n",
       "      <td>-242985.00</td>\n",
       "      <td>3.00</td>\n",
       "      <td>9.00</td>\n",
       "      <td>30.0</td>\n",
       "      <td>242985.00</td>\n",
       "    </tr>\n",
       "    <tr>\n",
       "      <td>CostPerItem</td>\n",
       "      <td>1083818.0</td>\n",
       "      <td>9.498798e+00</td>\n",
       "      <td>2308.138578</td>\n",
       "      <td>-15265.64</td>\n",
       "      <td>1.73</td>\n",
       "      <td>2.88</td>\n",
       "      <td>5.7</td>\n",
       "      <td>1696285.44</td>\n",
       "    </tr>\n",
       "  </tbody>\n",
       "</table>\n",
       "</div>"
      ],
      "text/plain": [
       "                            count          mean            std         min  \\\n",
       "UserId                  1083818.0  2.410162e+05  142336.431264       -1.00   \n",
       "TransactionId           1083818.0  6.159417e+06  147634.093880  5900015.00   \n",
       "ItemCode                1083818.0  6.582687e+05  452631.426503       -1.00   \n",
       "NumberOfItemsPurchased  1083818.0  2.865675e+01     654.243172  -242985.00   \n",
       "CostPerItem             1083818.0  9.498798e+00    2308.138578   -15265.64   \n",
       "\n",
       "                               25%         50%        75%         max  \n",
       "UserId                   259392.00   302022.00   341355.0   384027.00  \n",
       "TransactionId           6026856.00  6166611.00  6289569.0  6397457.00  \n",
       "ItemCode                 460908.00   475293.00   488943.0  1894494.00  \n",
       "NumberOfItemsPurchased        3.00        9.00       30.0   242985.00  \n",
       "CostPerItem                   1.73        2.88        5.7  1696285.44  "
      ]
     },
     "execution_count": 8,
     "metadata": {},
     "output_type": "execute_result"
    }
   ],
   "source": [
    "df[['UserId', 'TransactionId', 'ItemCode', 'NumberOfItemsPurchased', 'CostPerItem']].describe().T\n",
    "\n",
    "# UserId and ItemCode columns have min -1 (probably missing/mislabelled)\n",
    "# NumberOfItemsPurchased and CostPerItem have -ve values (maybe corresponding to above cases)"
   ]
  },
  {
   "cell_type": "code",
   "execution_count": 9,
   "metadata": {},
   "outputs": [
    {
     "data": {
      "text/html": [
       "<div>\n",
       "<style scoped>\n",
       "    .dataframe tbody tr th:only-of-type {\n",
       "        vertical-align: middle;\n",
       "    }\n",
       "\n",
       "    .dataframe tbody tr th {\n",
       "        vertical-align: top;\n",
       "    }\n",
       "\n",
       "    .dataframe thead th {\n",
       "        text-align: right;\n",
       "    }\n",
       "</style>\n",
       "<table border=\"1\" class=\"dataframe\">\n",
       "  <thead>\n",
       "    <tr style=\"text-align: right;\">\n",
       "      <th></th>\n",
       "      <th>UserId</th>\n",
       "      <th>TransactionId</th>\n",
       "      <th>TransactionTime</th>\n",
       "      <th>ItemCode</th>\n",
       "      <th>ItemDescription</th>\n",
       "      <th>NumberOfItemsPurchased</th>\n",
       "      <th>CostPerItem</th>\n",
       "      <th>Country</th>\n",
       "    </tr>\n",
       "  </thead>\n",
       "  <tbody>\n",
       "    <tr>\n",
       "      <td>4</td>\n",
       "      <td>-1</td>\n",
       "      <td>6143225</td>\n",
       "      <td>Mon Sep 10 11:58:00 IST 2018</td>\n",
       "      <td>1733592</td>\n",
       "      <td>WASHROOM METAL SIGN</td>\n",
       "      <td>3</td>\n",
       "      <td>3.40</td>\n",
       "      <td>United Kingdom</td>\n",
       "    </tr>\n",
       "    <tr>\n",
       "      <td>7</td>\n",
       "      <td>-1</td>\n",
       "      <td>6143225</td>\n",
       "      <td>Mon Sep 10 11:58:00 IST 2018</td>\n",
       "      <td>447867</td>\n",
       "      <td>SKULLS WRITING SET</td>\n",
       "      <td>120</td>\n",
       "      <td>1.15</td>\n",
       "      <td>United Kingdom</td>\n",
       "    </tr>\n",
       "    <tr>\n",
       "      <td>13</td>\n",
       "      <td>-1</td>\n",
       "      <td>6058140</td>\n",
       "      <td>Mon Jul 02 07:33:00 IST 2018</td>\n",
       "      <td>435225</td>\n",
       "      <td>LUNCH BAG RED RETROSPOT</td>\n",
       "      <td>60</td>\n",
       "      <td>6.85</td>\n",
       "      <td>United Kingdom</td>\n",
       "    </tr>\n",
       "    <tr>\n",
       "      <td>17</td>\n",
       "      <td>-1</td>\n",
       "      <td>6288843</td>\n",
       "      <td>Sun Dec 30 12:58:00 IST 2018</td>\n",
       "      <td>489594</td>\n",
       "      <td>VINTAGE CHRISTMAS TABLECLOTH</td>\n",
       "      <td>3</td>\n",
       "      <td>34.45</td>\n",
       "      <td>United Kingdom</td>\n",
       "    </tr>\n",
       "    <tr>\n",
       "      <td>23</td>\n",
       "      <td>-1</td>\n",
       "      <td>6388019</td>\n",
       "      <td>Sat Feb 16 13:24:00 IST 2019</td>\n",
       "      <td>490329</td>\n",
       "      <td>ROLL WRAP VINTAGE CHRISTMAS</td>\n",
       "      <td>30</td>\n",
       "      <td>3.40</td>\n",
       "      <td>United Kingdom</td>\n",
       "    </tr>\n",
       "  </tbody>\n",
       "</table>\n",
       "</div>"
      ],
      "text/plain": [
       "    UserId  TransactionId               TransactionTime  ItemCode  \\\n",
       "4       -1        6143225  Mon Sep 10 11:58:00 IST 2018   1733592   \n",
       "7       -1        6143225  Mon Sep 10 11:58:00 IST 2018    447867   \n",
       "13      -1        6058140  Mon Jul 02 07:33:00 IST 2018    435225   \n",
       "17      -1        6288843  Sun Dec 30 12:58:00 IST 2018    489594   \n",
       "23      -1        6388019  Sat Feb 16 13:24:00 IST 2019    490329   \n",
       "\n",
       "                 ItemDescription  NumberOfItemsPurchased  CostPerItem  \\\n",
       "4            WASHROOM METAL SIGN                       3         3.40   \n",
       "7            SKULLS WRITING SET                      120         1.15   \n",
       "13       LUNCH BAG RED RETROSPOT                      60         6.85   \n",
       "17  VINTAGE CHRISTMAS TABLECLOTH                       3        34.45   \n",
       "23   ROLL WRAP VINTAGE CHRISTMAS                      30         3.40   \n",
       "\n",
       "           Country  \n",
       "4   United Kingdom  \n",
       "7   United Kingdom  \n",
       "13  United Kingdom  \n",
       "17  United Kingdom  \n",
       "23  United Kingdom  "
      ]
     },
     "execution_count": 9,
     "metadata": {},
     "output_type": "execute_result"
    }
   ],
   "source": [
    "df.loc[df['UserId'] == -1].head() # entries with userid -1"
   ]
  },
  {
   "cell_type": "code",
   "execution_count": 10,
   "metadata": {
    "scrolled": false
   },
   "outputs": [
    {
     "data": {
      "text/html": [
       "<div>\n",
       "<style scoped>\n",
       "    .dataframe tbody tr th:only-of-type {\n",
       "        vertical-align: middle;\n",
       "    }\n",
       "\n",
       "    .dataframe tbody tr th {\n",
       "        vertical-align: top;\n",
       "    }\n",
       "\n",
       "    .dataframe thead th {\n",
       "        text-align: right;\n",
       "    }\n",
       "</style>\n",
       "<table border=\"1\" class=\"dataframe\">\n",
       "  <thead>\n",
       "    <tr style=\"text-align: right;\">\n",
       "      <th></th>\n",
       "      <th>UserId</th>\n",
       "      <th>TransactionId</th>\n",
       "      <th>TransactionTime</th>\n",
       "      <th>ItemCode</th>\n",
       "      <th>ItemDescription</th>\n",
       "      <th>NumberOfItemsPurchased</th>\n",
       "      <th>CostPerItem</th>\n",
       "      <th>Country</th>\n",
       "    </tr>\n",
       "  </thead>\n",
       "  <tbody>\n",
       "    <tr>\n",
       "      <td>154</td>\n",
       "      <td>266301</td>\n",
       "      <td>5970085</td>\n",
       "      <td>Sat Apr 14 11:36:00 IST 2018</td>\n",
       "      <td>-1</td>\n",
       "      <td>POSTAGE</td>\n",
       "      <td>9</td>\n",
       "      <td>24.84</td>\n",
       "      <td>France</td>\n",
       "    </tr>\n",
       "    <tr>\n",
       "      <td>251</td>\n",
       "      <td>266028</td>\n",
       "      <td>5969843</td>\n",
       "      <td>Sat Apr 14 09:27:00 IST 2018</td>\n",
       "      <td>-1</td>\n",
       "      <td>POSTAGE</td>\n",
       "      <td>21</td>\n",
       "      <td>24.84</td>\n",
       "      <td>Germany</td>\n",
       "    </tr>\n",
       "    <tr>\n",
       "      <td>993</td>\n",
       "      <td>287574</td>\n",
       "      <td>6190756</td>\n",
       "      <td>Sun Oct 21 10:27:00 IST 2018</td>\n",
       "      <td>-1</td>\n",
       "      <td>Discount</td>\n",
       "      <td>-3</td>\n",
       "      <td>88.32</td>\n",
       "      <td>United Kingdom</td>\n",
       "    </tr>\n",
       "    <tr>\n",
       "      <td>1261</td>\n",
       "      <td>264243</td>\n",
       "      <td>6153851</td>\n",
       "      <td>Wed Sep 19 08:22:00 IST 2018</td>\n",
       "      <td>-1</td>\n",
       "      <td>POSTAGE</td>\n",
       "      <td>6</td>\n",
       "      <td>24.84</td>\n",
       "      <td>France</td>\n",
       "    </tr>\n",
       "    <tr>\n",
       "      <td>1293</td>\n",
       "      <td>-1</td>\n",
       "      <td>6026130</td>\n",
       "      <td>Wed Jun 06 11:50:00 IST 2018</td>\n",
       "      <td>-1</td>\n",
       "      <td>DOTCOM POSTAGE</td>\n",
       "      <td>3</td>\n",
       "      <td>304.58</td>\n",
       "      <td>United Kingdom</td>\n",
       "    </tr>\n",
       "  </tbody>\n",
       "</table>\n",
       "</div>"
      ],
      "text/plain": [
       "      UserId  TransactionId               TransactionTime  ItemCode  \\\n",
       "154   266301        5970085  Sat Apr 14 11:36:00 IST 2018        -1   \n",
       "251   266028        5969843  Sat Apr 14 09:27:00 IST 2018        -1   \n",
       "993   287574        6190756  Sun Oct 21 10:27:00 IST 2018        -1   \n",
       "1261  264243        6153851  Wed Sep 19 08:22:00 IST 2018        -1   \n",
       "1293      -1        6026130  Wed Jun 06 11:50:00 IST 2018        -1   \n",
       "\n",
       "     ItemDescription  NumberOfItemsPurchased  CostPerItem         Country  \n",
       "154          POSTAGE                       9        24.84          France  \n",
       "251          POSTAGE                      21        24.84         Germany  \n",
       "993         Discount                      -3        88.32  United Kingdom  \n",
       "1261         POSTAGE                       6        24.84          France  \n",
       "1293  DOTCOM POSTAGE                       3       304.58  United Kingdom  "
      ]
     },
     "execution_count": 10,
     "metadata": {},
     "output_type": "execute_result"
    }
   ],
   "source": [
    "df.loc[df['ItemCode'] == -1].head() # entries with itemcode -1"
   ]
  },
  {
   "cell_type": "code",
   "execution_count": 11,
   "metadata": {},
   "outputs": [
    {
     "data": {
      "text/plain": [
       "array(['POSTAGE', 'Discount', 'DOTCOM POSTAGE', 'AMAZON FEE', 'Manual',\n",
       "       'SAMPLES', 'GIRLS PARTY BAG', 'Bank Charges', 'BOYS PARTY BAG',\n",
       "       'Adjust bad debt', 'CRUK Commission', 'PADS TO MATCH ALL CUSHIONS',\n",
       "       nan], dtype=object)"
      ]
     },
     "execution_count": 11,
     "metadata": {},
     "output_type": "execute_result"
    }
   ],
   "source": [
    "df.loc[df['ItemCode'] == -1]['ItemDescription'].unique() # descriptions of itemcode -1\n",
    "\n",
    "# Observation: Some are not products - Discount, Postage, Bank charges, Adjust bad debt, Amazon fee, etc"
   ]
  },
  {
   "cell_type": "code",
   "execution_count": 12,
   "metadata": {
    "scrolled": true
   },
   "outputs": [
    {
     "data": {
      "text/html": [
       "<div>\n",
       "<style scoped>\n",
       "    .dataframe tbody tr th:only-of-type {\n",
       "        vertical-align: middle;\n",
       "    }\n",
       "\n",
       "    .dataframe tbody tr th {\n",
       "        vertical-align: top;\n",
       "    }\n",
       "\n",
       "    .dataframe thead th {\n",
       "        text-align: right;\n",
       "    }\n",
       "</style>\n",
       "<table border=\"1\" class=\"dataframe\">\n",
       "  <thead>\n",
       "    <tr style=\"text-align: right;\">\n",
       "      <th></th>\n",
       "      <th>UserId</th>\n",
       "      <th>TransactionId</th>\n",
       "      <th>TransactionTime</th>\n",
       "      <th>ItemCode</th>\n",
       "      <th>ItemDescription</th>\n",
       "      <th>NumberOfItemsPurchased</th>\n",
       "      <th>CostPerItem</th>\n",
       "      <th>Country</th>\n",
       "    </tr>\n",
       "  </thead>\n",
       "  <tbody>\n",
       "  </tbody>\n",
       "</table>\n",
       "</div>"
      ],
      "text/plain": [
       "Empty DataFrame\n",
       "Columns: [UserId, TransactionId, TransactionTime, ItemCode, ItemDescription, NumberOfItemsPurchased, CostPerItem, Country]\n",
       "Index: []"
      ]
     },
     "execution_count": 12,
     "metadata": {},
     "output_type": "execute_result"
    }
   ],
   "source": [
    "# Assumption: If user id -1 was marked by mistake, we might find the same transaction ids of \n",
    "# userid -1 made by some valid user. If so, we can replace -1 with that userid. \n",
    "\n",
    "user_minus1_trasactions = df.loc[df['UserId'] == -1]['TransactionId']\n",
    "df.loc[(df['TransactionId'].isin(user_minus1_trasactions)) & (df['UserId'] != -1)] # empty\n",
    "\n",
    "# Conclusion: all transaction ids of userid -1 has been made only by userid -1 (cant replace)"
   ]
  },
  {
   "cell_type": "code",
   "execution_count": 14,
   "metadata": {},
   "outputs": [],
   "source": [
    "# removing userid -1 and itemcode -1\n",
    "df = df.loc[(df['UserId'] != -1) & (df['ItemCode'] != -1)]"
   ]
  },
  {
   "cell_type": "code",
   "execution_count": 15,
   "metadata": {},
   "outputs": [
    {
     "data": {
      "text/html": [
       "<div>\n",
       "<style scoped>\n",
       "    .dataframe tbody tr th:only-of-type {\n",
       "        vertical-align: middle;\n",
       "    }\n",
       "\n",
       "    .dataframe tbody tr th {\n",
       "        vertical-align: top;\n",
       "    }\n",
       "\n",
       "    .dataframe thead th {\n",
       "        text-align: right;\n",
       "    }\n",
       "</style>\n",
       "<table border=\"1\" class=\"dataframe\">\n",
       "  <thead>\n",
       "    <tr style=\"text-align: right;\">\n",
       "      <th></th>\n",
       "      <th>NumberOfItemsPurchased</th>\n",
       "      <th>CostPerItem</th>\n",
       "    </tr>\n",
       "  </thead>\n",
       "  <tbody>\n",
       "    <tr>\n",
       "      <td>count</td>\n",
       "      <td>810086.000000</td>\n",
       "      <td>8.100860e+05</td>\n",
       "    </tr>\n",
       "    <tr>\n",
       "      <td>mean</td>\n",
       "      <td>36.306367</td>\n",
       "      <td>8.218450e+00</td>\n",
       "    </tr>\n",
       "    <tr>\n",
       "      <td>std</td>\n",
       "      <td>747.588721</td>\n",
       "      <td>2.665313e+03</td>\n",
       "    </tr>\n",
       "    <tr>\n",
       "      <td>min</td>\n",
       "      <td>-242985.000000</td>\n",
       "      <td>0.000000e+00</td>\n",
       "    </tr>\n",
       "    <tr>\n",
       "      <td>25%</td>\n",
       "      <td>6.000000</td>\n",
       "      <td>1.730000e+00</td>\n",
       "    </tr>\n",
       "    <tr>\n",
       "      <td>50%</td>\n",
       "      <td>15.000000</td>\n",
       "      <td>2.700000e+00</td>\n",
       "    </tr>\n",
       "    <tr>\n",
       "      <td>75%</td>\n",
       "      <td>36.000000</td>\n",
       "      <td>5.180000e+00</td>\n",
       "    </tr>\n",
       "    <tr>\n",
       "      <td>max</td>\n",
       "      <td>242985.000000</td>\n",
       "      <td>1.696285e+06</td>\n",
       "    </tr>\n",
       "  </tbody>\n",
       "</table>\n",
       "</div>"
      ],
      "text/plain": [
       "       NumberOfItemsPurchased   CostPerItem\n",
       "count           810086.000000  8.100860e+05\n",
       "mean                36.306367  8.218450e+00\n",
       "std                747.588721  2.665313e+03\n",
       "min            -242985.000000  0.000000e+00\n",
       "25%                  6.000000  1.730000e+00\n",
       "50%                 15.000000  2.700000e+00\n",
       "75%                 36.000000  5.180000e+00\n",
       "max             242985.000000  1.696285e+06"
      ]
     },
     "execution_count": 15,
     "metadata": {},
     "output_type": "execute_result"
    }
   ],
   "source": [
    "df[['NumberOfItemsPurchased', 'CostPerItem']].describe()\n",
    "\n",
    "# Observations: min NumberOfItemsPurchased is -ve and CostPerItem is 0\n",
    "#               max of NumberOfItemsPurchased and CostPerItem are unnaturally large"
   ]
  },
  {
   "cell_type": "code",
   "execution_count": 16,
   "metadata": {},
   "outputs": [],
   "source": [
    "# Hypothesis: the -ve NumberOfItemsPurchased are cancelled orders\n",
    "\n",
    "neg_no_items = df.loc[df['NumberOfItemsPurchased'] < 0]['NumberOfItemsPurchased'].to_numpy()\n",
    "pos_no_items = df.loc[df['NumberOfItemsPurchased'] > 0]['NumberOfItemsPurchased'].to_numpy()"
   ]
  },
  {
   "cell_type": "code",
   "execution_count": 17,
   "metadata": {
    "scrolled": false
   },
   "outputs": [
    {
     "data": {
      "image/png": "[encoded data removed]",
      "text/plain": [
       "<Figure size 648x288 with 2 Axes>"
      ]
     },
     "metadata": {
      "needs_background": "light"
     },
     "output_type": "display_data"
    }
   ],
   "source": [
    "%matplotlib inline\n",
    "fig, (ax1, ax2) = plt.subplots(1, 2)\n",
    "ax1.hist(pos_no_items, bins = 20, density = True, range = (0, 750))\n",
    "ax2.hist(-neg_no_items, bins = 20, density = True, range = (0, 750)) # make -ves -> +ve\n",
    "ax1.set_title('positives')\n",
    "ax2.set_title('negatives')\n",
    "fig.tight_layout(pad = 0.1)\n",
    "ax2.set_yticks([])\n",
    "ax1.set_ylim([0, 0.03])\n",
    "ax2.set_ylim([0, 0.03])\n",
    "fig.set_figwidth(9)\n",
    "plt.show()\n",
    "\n",
    "# Although the distributions look similar (eg. the behaviour of most observations lying in \n",
    "# the first bin holds for both histograms. This indicates a systematic nature for these -ve\n",
    "# transactions. These could have been mislabelled as -ves, or could indicate cancelled orders. "
   ]
  },
  {
   "cell_type": "code",
   "execution_count": 18,
   "metadata": {},
   "outputs": [
    {
     "data": {
      "text/plain": [
       "17080"
      ]
     },
     "execution_count": 18,
     "metadata": {},
     "output_type": "execute_result"
    }
   ],
   "source": [
    "df.loc[df['NumberOfItemsPurchased'] < 0].shape[0]"
   ]
  },
  {
   "cell_type": "code",
   "execution_count": 19,
   "metadata": {},
   "outputs": [
    {
     "data": {
      "text/plain": [
       "1818"
      ]
     },
     "execution_count": 19,
     "metadata": {},
     "output_type": "execute_result"
    }
   ],
   "source": [
    "itemcodes = df.loc[df['NumberOfItemsPurchased'] < 0]['ItemCode'].unique()\n",
    "len(itemcodes)"
   ]
  },
  {
   "cell_type": "raw",
   "metadata": {},
   "source": [
    "# CAUTION: Dont give Run all cells with this block. Run separately if needed because \n",
    "           it will wait for user input, and the program run will be frozen\n",
    "\n",
    "# checking if every transaction with -ve NumberOfItemsPurchased have duplicated transactions\n",
    "# print the transactions with more than 1 duplicate for every itemcode\n",
    "\n",
    "for code in itemcodes:\n",
    "    filt = (df['NumberOfItemsPurchased'] < 0) & (df['ItemCode'] == code)\n",
    "    temp = df.loc[filt]\n",
    "    nrows = temp.shape[0]\n",
    "    temp = temp.drop_duplicates()\n",
    "    if nrows != 2 * temp.shape[0]: # more than 1 duplicate \n",
    "        display(HTML(df.loc[filt]['TransactionId'].value_counts().sort_values().to_frame().to_html()))\n",
    "        ip = input('Input Enter to continue and q to break out :')\n",
    "        if ip.lower() == 'q':\n",
    "            break\n",
    "        \n",
    "# Conclusion: every row with -ve NumberOfItemsPurchased has at least 1 duplicate. \n",
    "#             Some entries have upto 9 duplicates for the same transaction. "
   ]
  },
  {
   "cell_type": "code",
   "execution_count": 20,
   "metadata": {},
   "outputs": [
    {
     "name": "stdout",
     "output_type": "stream",
     "text": [
      "number of zero cost rows: 66\n",
      "number of unqiue itemcodes: 33\n"
     ]
    }
   ],
   "source": [
    "print(f\"number of zero cost rows: {df.loc[df['CostPerItem'] == 0].shape[0]}\")\n",
    "print(f\"number of unqiue itemcodes: {df.loc[df['CostPerItem'] == 0]['ItemCode'].nunique()}\")\n",
    "      \n",
    "# Observation: there are exactly twice the number of transactions as there are itemcodes"
   ]
  },
  {
   "cell_type": "code",
   "execution_count": 21,
   "metadata": {
    "scrolled": true
   },
   "outputs": [],
   "source": [
    "# Assumption: zero cost signifies orders that were returned (hence no overall transaction). Maybe, \n",
    "# instead of putting in a +ve cost for buying and -ve cost for a return, both costs were set to be zeros.\n",
    "# So, there should be exactly 1 duplicate per zero CostPerItem row. \n",
    "\n",
    "itemcodes = itemcodes = df.loc[df['CostPerItem'] == 0]['ItemCode'].unique()\n",
    "\n",
    "for code in itemcodes:\n",
    "    filt = (df['CostPerItem'] < 0) & (df['ItemCode'] == code)\n",
    "    temp = df.loc[filt]\n",
    "    nrows = temp.shape[0]\n",
    "    temp.drop_duplicates(inplace = True)\n",
    "    if nrows != 2 * temp.shape[0]:\n",
    "        display(HTML(df.loc[filt]['TransactionId'].value_counts().sort_values().to_frame().to_html()))\n",
    "        ip = input('Input Enter to continue and q to break out :')\n",
    "        if ip.lower() == 'q':\n",
    "            break\n",
    "\n",
    "# Observation: Code runs without any printing.  \n",
    "# Conclusion: Hence every zero CostPerItem row has exactly 1 duplicate"
   ]
  },
  {
   "cell_type": "code",
   "execution_count": 22,
   "metadata": {
    "scrolled": true
   },
   "outputs": [
    {
     "data": {
      "text/html": [
       "<div>\n",
       "<style scoped>\n",
       "    .dataframe tbody tr th:only-of-type {\n",
       "        vertical-align: middle;\n",
       "    }\n",
       "\n",
       "    .dataframe tbody tr th {\n",
       "        vertical-align: top;\n",
       "    }\n",
       "\n",
       "    .dataframe thead th {\n",
       "        text-align: right;\n",
       "    }\n",
       "</style>\n",
       "<table border=\"1\" class=\"dataframe\">\n",
       "  <thead>\n",
       "    <tr style=\"text-align: right;\">\n",
       "      <th></th>\n",
       "      <th>UserId</th>\n",
       "      <th>TransactionId</th>\n",
       "      <th>ItemCode</th>\n",
       "      <th>NumberOfItemsPurchased</th>\n",
       "      <th>CostPerItem</th>\n",
       "    </tr>\n",
       "  </thead>\n",
       "  <tbody>\n",
       "    <tr>\n",
       "      <td>count</td>\n",
       "      <td>810086.000000</td>\n",
       "      <td>8.100860e+05</td>\n",
       "      <td>8.100860e+05</td>\n",
       "      <td>810086.000000</td>\n",
       "      <td>8.100860e+05</td>\n",
       "    </tr>\n",
       "    <tr>\n",
       "      <td>mean</td>\n",
       "      <td>321193.595379</td>\n",
       "      <td>6.166424e+06</td>\n",
       "      <td>6.459774e+05</td>\n",
       "      <td>36.306367</td>\n",
       "      <td>8.218450e+00</td>\n",
       "    </tr>\n",
       "    <tr>\n",
       "      <td>std</td>\n",
       "      <td>35914.936353</td>\n",
       "      <td>1.441709e+05</td>\n",
       "      <td>4.329505e+05</td>\n",
       "      <td>747.588721</td>\n",
       "      <td>2.665313e+03</td>\n",
       "    </tr>\n",
       "    <tr>\n",
       "      <td>min</td>\n",
       "      <td>259266.000000</td>\n",
       "      <td>5.900015e+06</td>\n",
       "      <td>4.200000e+01</td>\n",
       "      <td>-242985.000000</td>\n",
       "      <td>0.000000e+00</td>\n",
       "    </tr>\n",
       "    <tr>\n",
       "      <td>25%</td>\n",
       "      <td>293349.000000</td>\n",
       "      <td>6.040430e+06</td>\n",
       "      <td>4.626090e+05</td>\n",
       "      <td>6.000000</td>\n",
       "      <td>1.730000e+00</td>\n",
       "    </tr>\n",
       "    <tr>\n",
       "      <td>50%</td>\n",
       "      <td>318339.000000</td>\n",
       "      <td>6.180603e+06</td>\n",
       "      <td>4.759860e+05</td>\n",
       "      <td>15.000000</td>\n",
       "      <td>2.700000e+00</td>\n",
       "    </tr>\n",
       "    <tr>\n",
       "      <td>75%</td>\n",
       "      <td>352674.000000</td>\n",
       "      <td>6.292726e+06</td>\n",
       "      <td>4.886280e+05</td>\n",
       "      <td>36.000000</td>\n",
       "      <td>5.180000e+00</td>\n",
       "    </tr>\n",
       "    <tr>\n",
       "      <td>max</td>\n",
       "      <td>384027.000000</td>\n",
       "      <td>6.397457e+06</td>\n",
       "      <td>1.894494e+06</td>\n",
       "      <td>242985.000000</td>\n",
       "      <td>1.696285e+06</td>\n",
       "    </tr>\n",
       "  </tbody>\n",
       "</table>\n",
       "</div>"
      ],
      "text/plain": [
       "              UserId  TransactionId      ItemCode  NumberOfItemsPurchased  \\\n",
       "count  810086.000000   8.100860e+05  8.100860e+05           810086.000000   \n",
       "mean   321193.595379   6.166424e+06  6.459774e+05               36.306367   \n",
       "std     35914.936353   1.441709e+05  4.329505e+05              747.588721   \n",
       "min    259266.000000   5.900015e+06  4.200000e+01          -242985.000000   \n",
       "25%    293349.000000   6.040430e+06  4.626090e+05                6.000000   \n",
       "50%    318339.000000   6.180603e+06  4.759860e+05               15.000000   \n",
       "75%    352674.000000   6.292726e+06  4.886280e+05               36.000000   \n",
       "max    384027.000000   6.397457e+06  1.894494e+06           242985.000000   \n",
       "\n",
       "        CostPerItem  \n",
       "count  8.100860e+05  \n",
       "mean   8.218450e+00  \n",
       "std    2.665313e+03  \n",
       "min    0.000000e+00  \n",
       "25%    1.730000e+00  \n",
       "50%    2.700000e+00  \n",
       "75%    5.180000e+00  \n",
       "max    1.696285e+06  "
      ]
     },
     "execution_count": 22,
     "metadata": {},
     "output_type": "execute_result"
    }
   ],
   "source": [
    "df.describe()"
   ]
  },
  {
   "cell_type": "code",
   "execution_count": 23,
   "metadata": {
    "scrolled": true
   },
   "outputs": [
    {
     "data": {
      "text/plain": [
       "(399788, 8)"
      ]
     },
     "execution_count": 23,
     "metadata": {},
     "output_type": "execute_result"
    }
   ],
   "source": [
    "df.drop_duplicates(inplace = True) # duplicates of cancelled and returned orders\n",
    "df.shape"
   ]
  },
  {
   "cell_type": "code",
   "execution_count": 30,
   "metadata": {},
   "outputs": [
    {
     "data": {
      "text/html": [
       "<div>\n",
       "<style scoped>\n",
       "    .dataframe tbody tr th:only-of-type {\n",
       "        vertical-align: middle;\n",
       "    }\n",
       "\n",
       "    .dataframe tbody tr th {\n",
       "        vertical-align: top;\n",
       "    }\n",
       "\n",
       "    .dataframe thead th {\n",
       "        text-align: right;\n",
       "    }\n",
       "</style>\n",
       "<table border=\"1\" class=\"dataframe\">\n",
       "  <thead>\n",
       "    <tr style=\"text-align: right;\">\n",
       "      <th></th>\n",
       "      <th>UserId</th>\n",
       "      <th>TransactionId</th>\n",
       "      <th>TransactionTime</th>\n",
       "      <th>ItemCode</th>\n",
       "      <th>ItemDescription</th>\n",
       "      <th>NumberOfItemsPurchased</th>\n",
       "      <th>CostPerItem</th>\n",
       "      <th>Country</th>\n",
       "      <th>TransactionDate</th>\n",
       "      <th>returned</th>\n",
       "      <th>cancelled</th>\n",
       "    </tr>\n",
       "  </thead>\n",
       "  <tbody>\n",
       "    <tr>\n",
       "      <td>241</td>\n",
       "      <td>366870</td>\n",
       "      <td>5912049</td>\n",
       "      <td>Fri Feb 18 05:57:00 IST 2028</td>\n",
       "      <td>473613</td>\n",
       "      <td>PLASTERS IN TIN SKULLS</td>\n",
       "      <td>36</td>\n",
       "      <td>2.28</td>\n",
       "      <td>United Kingdom</td>\n",
       "      <td>2018-02-18</td>\n",
       "      <td>0</td>\n",
       "      <td>0</td>\n",
       "    </tr>\n",
       "    <tr>\n",
       "      <td>602</td>\n",
       "      <td>369411</td>\n",
       "      <td>5914106</td>\n",
       "      <td>Fri Feb 18 11:39:00 IST 2028</td>\n",
       "      <td>481278</td>\n",
       "      <td>HERB MARKER PARSLEY</td>\n",
       "      <td>3</td>\n",
       "      <td>0.90</td>\n",
       "      <td>United Kingdom</td>\n",
       "      <td>2018-02-18</td>\n",
       "      <td>0</td>\n",
       "      <td>0</td>\n",
       "    </tr>\n",
       "    <tr>\n",
       "      <td>1070</td>\n",
       "      <td>259287</td>\n",
       "      <td>5913886</td>\n",
       "      <td>Fri Feb 18 10:57:00 IST 2028</td>\n",
       "      <td>477246</td>\n",
       "      <td>ALARM CLOCK BAKELIKE GREEN</td>\n",
       "      <td>12</td>\n",
       "      <td>5.18</td>\n",
       "      <td>Iceland</td>\n",
       "      <td>2018-02-18</td>\n",
       "      <td>0</td>\n",
       "      <td>0</td>\n",
       "    </tr>\n",
       "    <tr>\n",
       "      <td>1610</td>\n",
       "      <td>267708</td>\n",
       "      <td>5913864</td>\n",
       "      <td>Fri Feb 18 10:41:00 IST 2028</td>\n",
       "      <td>458346</td>\n",
       "      <td>EIGHT PIECE DINOSAUR SET</td>\n",
       "      <td>9</td>\n",
       "      <td>1.73</td>\n",
       "      <td>United Kingdom</td>\n",
       "      <td>2018-02-18</td>\n",
       "      <td>0</td>\n",
       "      <td>0</td>\n",
       "    </tr>\n",
       "    <tr>\n",
       "      <td>1792</td>\n",
       "      <td>315504</td>\n",
       "      <td>5913688</td>\n",
       "      <td>Fri Feb 18 09:20:00 IST 2028</td>\n",
       "      <td>453432</td>\n",
       "      <td>RETROSPOT CIGAR BOX MATCHES</td>\n",
       "      <td>12</td>\n",
       "      <td>1.73</td>\n",
       "      <td>United Kingdom</td>\n",
       "      <td>2018-02-18</td>\n",
       "      <td>0</td>\n",
       "      <td>0</td>\n",
       "    </tr>\n",
       "    <tr>\n",
       "      <td>...</td>\n",
       "      <td>...</td>\n",
       "      <td>...</td>\n",
       "      <td>...</td>\n",
       "      <td>...</td>\n",
       "      <td>...</td>\n",
       "      <td>...</td>\n",
       "      <td>...</td>\n",
       "      <td>...</td>\n",
       "      <td>...</td>\n",
       "      <td>...</td>\n",
       "      <td>...</td>\n",
       "    </tr>\n",
       "    <tr>\n",
       "      <td>1005863</td>\n",
       "      <td>333018</td>\n",
       "      <td>5913853</td>\n",
       "      <td>Fri Feb 18 10:31:00 IST 2028</td>\n",
       "      <td>481803</td>\n",
       "      <td>CHRISTMAS LIGHTS 10 VINTAGE BAUBLES</td>\n",
       "      <td>6</td>\n",
       "      <td>6.84</td>\n",
       "      <td>United Kingdom</td>\n",
       "      <td>2018-02-18</td>\n",
       "      <td>0</td>\n",
       "      <td>0</td>\n",
       "    </tr>\n",
       "    <tr>\n",
       "      <td>1017804</td>\n",
       "      <td>352275</td>\n",
       "      <td>5913974</td>\n",
       "      <td>Fri Feb 18 11:15:00 IST 2028</td>\n",
       "      <td>464373</td>\n",
       "      <td>GREY HEART HOT WATER BOTTLE</td>\n",
       "      <td>9</td>\n",
       "      <td>5.18</td>\n",
       "      <td>United Kingdom</td>\n",
       "      <td>2018-02-18</td>\n",
       "      <td>0</td>\n",
       "      <td>0</td>\n",
       "    </tr>\n",
       "    <tr>\n",
       "      <td>1039130</td>\n",
       "      <td>371175</td>\n",
       "      <td>5913699</td>\n",
       "      <td>Fri Feb 18 09:22:00 IST 2028</td>\n",
       "      <td>477246</td>\n",
       "      <td>ALARM CLOCK BAKELIKE GREEN</td>\n",
       "      <td>24</td>\n",
       "      <td>5.18</td>\n",
       "      <td>United Kingdom</td>\n",
       "      <td>2018-02-18</td>\n",
       "      <td>0</td>\n",
       "      <td>0</td>\n",
       "    </tr>\n",
       "    <tr>\n",
       "      <td>1052713</td>\n",
       "      <td>297696</td>\n",
       "      <td>5912753</td>\n",
       "      <td>Fri Feb 18 07:45:00 IST 2028</td>\n",
       "      <td>448455</td>\n",
       "      <td>TOAST ITS - I LOVE YOU</td>\n",
       "      <td>36</td>\n",
       "      <td>1.73</td>\n",
       "      <td>United Kingdom</td>\n",
       "      <td>2018-02-18</td>\n",
       "      <td>0</td>\n",
       "      <td>0</td>\n",
       "    </tr>\n",
       "    <tr>\n",
       "      <td>1070950</td>\n",
       "      <td>272391</td>\n",
       "      <td>5912192</td>\n",
       "      <td>Fri Feb 18 07:11:00 IST 2028</td>\n",
       "      <td>1771287</td>\n",
       "      <td>ROTATING SILVER ANGELS T-LIGHT HLDR</td>\n",
       "      <td>18</td>\n",
       "      <td>3.52</td>\n",
       "      <td>United Kingdom</td>\n",
       "      <td>2018-02-18</td>\n",
       "      <td>0</td>\n",
       "      <td>0</td>\n",
       "    </tr>\n",
       "  </tbody>\n",
       "</table>\n",
       "<p>1113 rows × 11 columns</p>\n",
       "</div>"
      ],
      "text/plain": [
       "         UserId  TransactionId               TransactionTime  ItemCode  \\\n",
       "241      366870        5912049  Fri Feb 18 05:57:00 IST 2028    473613   \n",
       "602      369411        5914106  Fri Feb 18 11:39:00 IST 2028    481278   \n",
       "1070     259287        5913886  Fri Feb 18 10:57:00 IST 2028    477246   \n",
       "1610     267708        5913864  Fri Feb 18 10:41:00 IST 2028    458346   \n",
       "1792     315504        5913688  Fri Feb 18 09:20:00 IST 2028    453432   \n",
       "...         ...            ...                           ...       ...   \n",
       "1005863  333018        5913853  Fri Feb 18 10:31:00 IST 2028    481803   \n",
       "1017804  352275        5913974  Fri Feb 18 11:15:00 IST 2028    464373   \n",
       "1039130  371175        5913699  Fri Feb 18 09:22:00 IST 2028    477246   \n",
       "1052713  297696        5912753  Fri Feb 18 07:45:00 IST 2028    448455   \n",
       "1070950  272391        5912192  Fri Feb 18 07:11:00 IST 2028   1771287   \n",
       "\n",
       "                             ItemDescription  NumberOfItemsPurchased  \\\n",
       "241                   PLASTERS IN TIN SKULLS                      36   \n",
       "602                      HERB MARKER PARSLEY                       3   \n",
       "1070              ALARM CLOCK BAKELIKE GREEN                      12   \n",
       "1610                EIGHT PIECE DINOSAUR SET                       9   \n",
       "1792            RETROSPOT CIGAR BOX MATCHES                       12   \n",
       "...                                      ...                     ...   \n",
       "1005863  CHRISTMAS LIGHTS 10 VINTAGE BAUBLES                       6   \n",
       "1017804          GREY HEART HOT WATER BOTTLE                       9   \n",
       "1039130           ALARM CLOCK BAKELIKE GREEN                      24   \n",
       "1052713              TOAST ITS - I LOVE YOU                       36   \n",
       "1070950  ROTATING SILVER ANGELS T-LIGHT HLDR                      18   \n",
       "\n",
       "         CostPerItem         Country TransactionDate  returned  cancelled  \n",
       "241             2.28  United Kingdom      2018-02-18         0          0  \n",
       "602             0.90  United Kingdom      2018-02-18         0          0  \n",
       "1070            5.18         Iceland      2018-02-18         0          0  \n",
       "1610            1.73  United Kingdom      2018-02-18         0          0  \n",
       "1792            1.73  United Kingdom      2018-02-18         0          0  \n",
       "...              ...             ...             ...       ...        ...  \n",
       "1005863         6.84  United Kingdom      2018-02-18         0          0  \n",
       "1017804         5.18  United Kingdom      2018-02-18         0          0  \n",
       "1039130         5.18  United Kingdom      2018-02-18         0          0  \n",
       "1052713         1.73  United Kingdom      2018-02-18         0          0  \n",
       "1070950         3.52  United Kingdom      2018-02-18         0          0  \n",
       "\n",
       "[1113 rows x 11 columns]"
      ]
     },
     "execution_count": 30,
     "metadata": {},
     "output_type": "execute_result"
    }
   ],
   "source": [
    "df.loc[df['TransactionTime'].str.contains('2028')]\n",
    "\n",
    "# Observation: Many transaction dates have recorded the year 2028. \n",
    "# Assumption: Its probably a logging error. We will replace 2028 with 2018"
   ]
  },
  {
   "cell_type": "code",
   "execution_count": 31,
   "metadata": {},
   "outputs": [],
   "source": [
    "def get_date(transaction_time):\n",
    "    \n",
    "    month_num_dict = {\n",
    "        'Jan': '01', 'Feb': '02', 'Mar': '03', 'Apr': '04', \n",
    "        'May': '05', 'Jun': '06', 'Jul': '07', 'Aug': '08', \n",
    "        'Sep': '09', 'Oct': '10', 'Nov': '11', 'Dec': '12'\n",
    "    }\n",
    "    \n",
    "    split = transaction_time.split(' ')\n",
    "    month = month_num_dict[split[1]]\n",
    "    date = [split[2], month, split[-1]]\n",
    "    \n",
    "    if date[-1] == '2028':\n",
    "        date[-1] = '2018'\n",
    "    \n",
    "    return '/'.join(date)\n"
   ]
  },
  {
   "cell_type": "code",
   "execution_count": 32,
   "metadata": {},
   "outputs": [],
   "source": [
    "df['TransactionDate'] = df['TransactionTime'].apply(get_date)\n",
    "df['TransactionDate'] = pd.to_datetime(df['TransactionDate'])"
   ]
  },
  {
   "cell_type": "code",
   "execution_count": 33,
   "metadata": {},
   "outputs": [],
   "source": [
    "df['returned'] = df['NumberOfItemsPurchased'].apply(lambda x: -x if x < 0 else 0) # convert to +ve, store in 'returned' column\n",
    "df['cancelled'] = df['CostPerItem'].apply(lambda x: 1 if x == 0 else 0) # transaction cancelled or not (binary variable)\n",
    "\n",
    "df.loc[df['NumberOfItemsPurchased'] < 0, 'NumberOfItemsPurchased'] = 0 # replcae -ves with zeros"
   ]
  },
  {
   "cell_type": "code",
   "execution_count": 34,
   "metadata": {
    "scrolled": true
   },
   "outputs": [
    {
     "data": {
      "text/html": [
       "<div>\n",
       "<style scoped>\n",
       "    .dataframe tbody tr th:only-of-type {\n",
       "        vertical-align: middle;\n",
       "    }\n",
       "\n",
       "    .dataframe tbody tr th {\n",
       "        vertical-align: top;\n",
       "    }\n",
       "\n",
       "    .dataframe thead th {\n",
       "        text-align: right;\n",
       "    }\n",
       "</style>\n",
       "<table border=\"1\" class=\"dataframe\">\n",
       "  <thead>\n",
       "    <tr style=\"text-align: right;\">\n",
       "      <th></th>\n",
       "      <th>UserId</th>\n",
       "      <th>TransactionId</th>\n",
       "      <th>TransactionTime</th>\n",
       "      <th>ItemCode</th>\n",
       "      <th>ItemDescription</th>\n",
       "      <th>NumberOfItemsPurchased</th>\n",
       "      <th>CostPerItem</th>\n",
       "      <th>Country</th>\n",
       "      <th>TransactionDate</th>\n",
       "      <th>returned</th>\n",
       "      <th>cancelled</th>\n",
       "    </tr>\n",
       "  </thead>\n",
       "  <tbody>\n",
       "    <tr>\n",
       "      <td>0</td>\n",
       "      <td>278166</td>\n",
       "      <td>6355745</td>\n",
       "      <td>Sat Feb 02 12:50:00 IST 2019</td>\n",
       "      <td>465549</td>\n",
       "      <td>FAMILY ALBUM WHITE PICTURE FRAME</td>\n",
       "      <td>6</td>\n",
       "      <td>11.73</td>\n",
       "      <td>United Kingdom</td>\n",
       "      <td>2019-02-02</td>\n",
       "      <td>0</td>\n",
       "      <td>0</td>\n",
       "    </tr>\n",
       "    <tr>\n",
       "      <td>1</td>\n",
       "      <td>337701</td>\n",
       "      <td>6283376</td>\n",
       "      <td>Wed Dec 26 09:06:00 IST 2018</td>\n",
       "      <td>482370</td>\n",
       "      <td>LONDON BUS COFFEE MUG</td>\n",
       "      <td>3</td>\n",
       "      <td>3.52</td>\n",
       "      <td>United Kingdom</td>\n",
       "      <td>2018-12-26</td>\n",
       "      <td>0</td>\n",
       "      <td>0</td>\n",
       "    </tr>\n",
       "    <tr>\n",
       "      <td>2</td>\n",
       "      <td>267099</td>\n",
       "      <td>6385599</td>\n",
       "      <td>Fri Feb 15 09:45:00 IST 2019</td>\n",
       "      <td>490728</td>\n",
       "      <td>SET 12 COLOUR PENCILS DOLLY GIRL</td>\n",
       "      <td>72</td>\n",
       "      <td>0.90</td>\n",
       "      <td>France</td>\n",
       "      <td>2019-02-15</td>\n",
       "      <td>0</td>\n",
       "      <td>0</td>\n",
       "    </tr>\n",
       "    <tr>\n",
       "      <td>3</td>\n",
       "      <td>380478</td>\n",
       "      <td>6044973</td>\n",
       "      <td>Fri Jun 22 07:14:00 IST 2018</td>\n",
       "      <td>459186</td>\n",
       "      <td>UNION JACK FLAG LUGGAGE TAG</td>\n",
       "      <td>3</td>\n",
       "      <td>1.73</td>\n",
       "      <td>United Kingdom</td>\n",
       "      <td>2018-06-22</td>\n",
       "      <td>0</td>\n",
       "      <td>0</td>\n",
       "    </tr>\n",
       "    <tr>\n",
       "      <td>5</td>\n",
       "      <td>285957</td>\n",
       "      <td>6307136</td>\n",
       "      <td>Fri Jan 11 09:50:00 IST 2019</td>\n",
       "      <td>1787247</td>\n",
       "      <td>CUT GLASS T-LIGHT HOLDER OCTAGON</td>\n",
       "      <td>12</td>\n",
       "      <td>3.52</td>\n",
       "      <td>United Kingdom</td>\n",
       "      <td>2019-11-01</td>\n",
       "      <td>0</td>\n",
       "      <td>0</td>\n",
       "    </tr>\n",
       "  </tbody>\n",
       "</table>\n",
       "</div>"
      ],
      "text/plain": [
       "   UserId  TransactionId               TransactionTime  ItemCode  \\\n",
       "0  278166        6355745  Sat Feb 02 12:50:00 IST 2019    465549   \n",
       "1  337701        6283376  Wed Dec 26 09:06:00 IST 2018    482370   \n",
       "2  267099        6385599  Fri Feb 15 09:45:00 IST 2019    490728   \n",
       "3  380478        6044973  Fri Jun 22 07:14:00 IST 2018    459186   \n",
       "5  285957        6307136  Fri Jan 11 09:50:00 IST 2019   1787247   \n",
       "\n",
       "                     ItemDescription  NumberOfItemsPurchased  CostPerItem  \\\n",
       "0   FAMILY ALBUM WHITE PICTURE FRAME                       6        11.73   \n",
       "1              LONDON BUS COFFEE MUG                       3         3.52   \n",
       "2  SET 12 COLOUR PENCILS DOLLY GIRL                       72         0.90   \n",
       "3        UNION JACK FLAG LUGGAGE TAG                       3         1.73   \n",
       "5   CUT GLASS T-LIGHT HOLDER OCTAGON                      12         3.52   \n",
       "\n",
       "          Country TransactionDate  returned  cancelled  \n",
       "0  United Kingdom      2019-02-02         0          0  \n",
       "1  United Kingdom      2018-12-26         0          0  \n",
       "2          France      2019-02-15         0          0  \n",
       "3  United Kingdom      2018-06-22         0          0  \n",
       "5  United Kingdom      2019-11-01         0          0  "
      ]
     },
     "execution_count": 34,
     "metadata": {},
     "output_type": "execute_result"
    }
   ],
   "source": [
    "df.head()"
   ]
  },
  {
   "cell_type": "markdown",
   "metadata": {},
   "source": [
    "### Feature Engineering"
   ]
  },
  {
   "cell_type": "code",
   "execution_count": 35,
   "metadata": {
    "scrolled": true
   },
   "outputs": [
    {
     "name": "stdout",
     "output_type": "stream",
     "text": [
      "<class 'pandas.core.frame.DataFrame'>\n",
      "Int64Index: 399788 entries, 0 to 1081376\n",
      "Data columns (total 11 columns):\n",
      "UserId                    399788 non-null int64\n",
      "TransactionId             399788 non-null int64\n",
      "TransactionTime           399788 non-null object\n",
      "ItemCode                  399788 non-null int64\n",
      "ItemDescription           399788 non-null object\n",
      "NumberOfItemsPurchased    399788 non-null int64\n",
      "CostPerItem               399788 non-null float64\n",
      "Country                   399788 non-null object\n",
      "TransactionDate           399788 non-null datetime64[ns]\n",
      "returned                  399788 non-null int64\n",
      "cancelled                 399788 non-null int64\n",
      "dtypes: datetime64[ns](1), float64(1), int64(6), object(3)\n",
      "memory usage: 36.6+ MB\n"
     ]
    }
   ],
   "source": [
    "df.info() # no nans"
   ]
  },
  {
   "cell_type": "code",
   "execution_count": 36,
   "metadata": {},
   "outputs": [
    {
     "name": "stdout",
     "output_type": "stream",
     "text": [
      "number of users = 4363\n",
      "number of items = 3209\n",
      "number of countries = 37\n",
      "number of transactions = 21791\n"
     ]
    }
   ],
   "source": [
    "print(f\"number of users = {df['UserId'].nunique()}\")\n",
    "print(f\"number of items = {df['ItemCode'].nunique()}\")\n",
    "print(f\"number of countries = {df['Country'].nunique()}\")\n",
    "print(f\"number of transactions = {df['TransactionId'].nunique()}\")"
   ]
  },
  {
   "cell_type": "markdown",
   "metadata": {},
   "source": [
    "#### Number of purchases"
   ]
  },
  {
   "cell_type": "code",
   "execution_count": 37,
   "metadata": {},
   "outputs": [
    {
     "data": {
      "text/plain": [
       "374661    7798\n",
       "313131    5893\n",
       "296016    5095\n",
       "267708    4440\n",
       "306726    2755\n",
       "          ... \n",
       "281211       1\n",
       "326802       1\n",
       "381654       1\n",
       "380373       1\n",
       "306096       1\n",
       "Name: UserId, Length: 4363, dtype: int64"
      ]
     },
     "execution_count": 37,
     "metadata": {},
     "output_type": "execute_result"
    }
   ],
   "source": [
    "df['UserId'].value_counts() # number of transactions per user"
   ]
  },
  {
   "cell_type": "code",
   "execution_count": 38,
   "metadata": {
    "scrolled": true
   },
   "outputs": [
    {
     "data": {
      "text/html": [
       "<div>\n",
       "<style scoped>\n",
       "    .dataframe tbody tr th:only-of-type {\n",
       "        vertical-align: middle;\n",
       "    }\n",
       "\n",
       "    .dataframe tbody tr th {\n",
       "        vertical-align: top;\n",
       "    }\n",
       "\n",
       "    .dataframe thead th {\n",
       "        text-align: right;\n",
       "    }\n",
       "</style>\n",
       "<table border=\"1\" class=\"dataframe\">\n",
       "  <thead>\n",
       "    <tr style=\"text-align: right;\">\n",
       "      <th></th>\n",
       "      <th>n_transactions</th>\n",
       "    </tr>\n",
       "    <tr>\n",
       "      <th>UserId</th>\n",
       "      <th></th>\n",
       "    </tr>\n",
       "  </thead>\n",
       "  <tbody>\n",
       "    <tr>\n",
       "      <td>272517</td>\n",
       "      <td>9</td>\n",
       "    </tr>\n",
       "    <tr>\n",
       "      <td>315546</td>\n",
       "      <td>60</td>\n",
       "    </tr>\n",
       "    <tr>\n",
       "      <td>329889</td>\n",
       "      <td>6</td>\n",
       "    </tr>\n",
       "    <tr>\n",
       "      <td>344232</td>\n",
       "      <td>43</td>\n",
       "    </tr>\n",
       "    <tr>\n",
       "      <td>358575</td>\n",
       "      <td>80</td>\n",
       "    </tr>\n",
       "  </tbody>\n",
       "</table>\n",
       "</div>"
      ],
      "text/plain": [
       "        n_transactions\n",
       "UserId                \n",
       "272517               9\n",
       "315546              60\n",
       "329889               6\n",
       "344232              43\n",
       "358575              80"
      ]
     },
     "execution_count": 38,
     "metadata": {},
     "output_type": "execute_result"
    }
   ],
   "source": [
    "users = df['UserId'].value_counts(sort = False).rename_axis('UserId').to_frame('n_transactions')\n",
    "users.head()"
   ]
  },
  {
   "cell_type": "markdown",
   "metadata": {},
   "source": [
    "#### Avg transaction hour"
   ]
  },
  {
   "cell_type": "code",
   "execution_count": 39,
   "metadata": {},
   "outputs": [],
   "source": [
    "def avg_transaction_hour(series):\n",
    "    \n",
    "    def get_hour(time_str):\n",
    "        time = time_str.split(' ')[3]\n",
    "        hour = float(time.split(':')[0])\n",
    "        return hour\n",
    "    \n",
    "    hours = series.apply(get_hour)\n",
    "    return np.mean(hours)"
   ]
  },
  {
   "cell_type": "code",
   "execution_count": 40,
   "metadata": {
    "scrolled": false
   },
   "outputs": [
    {
     "data": {
      "text/html": [
       "<div>\n",
       "<style scoped>\n",
       "    .dataframe tbody tr th:only-of-type {\n",
       "        vertical-align: middle;\n",
       "    }\n",
       "\n",
       "    .dataframe tbody tr th {\n",
       "        vertical-align: top;\n",
       "    }\n",
       "\n",
       "    .dataframe thead th {\n",
       "        text-align: right;\n",
       "    }\n",
       "</style>\n",
       "<table border=\"1\" class=\"dataframe\">\n",
       "  <thead>\n",
       "    <tr style=\"text-align: right;\">\n",
       "      <th></th>\n",
       "      <th>n_transactions</th>\n",
       "      <th>transaction_hour</th>\n",
       "    </tr>\n",
       "    <tr>\n",
       "      <th>UserId</th>\n",
       "      <th></th>\n",
       "      <th></th>\n",
       "    </tr>\n",
       "  </thead>\n",
       "  <tbody>\n",
       "    <tr>\n",
       "      <td>272517</td>\n",
       "      <td>9</td>\n",
       "      <td>12.000</td>\n",
       "    </tr>\n",
       "    <tr>\n",
       "      <td>315546</td>\n",
       "      <td>60</td>\n",
       "      <td>9.100</td>\n",
       "    </tr>\n",
       "    <tr>\n",
       "      <td>329889</td>\n",
       "      <td>6</td>\n",
       "      <td>6.000</td>\n",
       "    </tr>\n",
       "    <tr>\n",
       "      <td>344232</td>\n",
       "      <td>43</td>\n",
       "      <td>8.000</td>\n",
       "    </tr>\n",
       "    <tr>\n",
       "      <td>358575</td>\n",
       "      <td>80</td>\n",
       "      <td>8.275</td>\n",
       "    </tr>\n",
       "  </tbody>\n",
       "</table>\n",
       "</div>"
      ],
      "text/plain": [
       "        n_transactions  transaction_hour\n",
       "UserId                                  \n",
       "272517               9            12.000\n",
       "315546              60             9.100\n",
       "329889               6             6.000\n",
       "344232              43             8.000\n",
       "358575              80             8.275"
      ]
     },
     "execution_count": 40,
     "metadata": {},
     "output_type": "execute_result"
    }
   ],
   "source": [
    "df_gpby = df.groupby('UserId')\n",
    "df_time = df_gpby['TransactionTime'].agg(avg_transaction_hour)\n",
    "df_time = df_time.rename_axis('UserId').to_frame('transaction_hour')\n",
    "users = users.join(df_time)\n",
    "users.head()"
   ]
  },
  {
   "cell_type": "markdown",
   "metadata": {},
   "source": [
    "#### Avg, Min, Max amounts per valid (not returned/cancelled) transaction "
   ]
  },
  {
   "cell_type": "code",
   "execution_count": 41,
   "metadata": {},
   "outputs": [],
   "source": [
    "def amt_spent_stats(transactions):\n",
    "    \n",
    "    def total_amt(series):    \n",
    "        if series.loc['CostPerItem'] == 0 or series.loc['NumberOfItemsPurchased'] == 0:\n",
    "            return np.nan\n",
    "        else:\n",
    "            return series.loc['CostPerItem'] * series.loc['NumberOfItemsPurchased']\n",
    "    \n",
    "    amt_spent = transactions.apply(total_amt, axis = 1)\n",
    "    \n",
    "    if np.isnan(np.nanmean(amt_spent)):\n",
    "        mean = minim = maxim = 0\n",
    "    else:\n",
    "        mean = np.nanmean(amt_spent)\n",
    "        minim = np.nanmin(amt_spent)\n",
    "        maxim = np.nanmax(amt_spent)\n",
    "    \n",
    "    return {'Mean': mean, 'Min': minim, 'Max': maxim}"
   ]
  },
  {
   "cell_type": "code",
   "execution_count": 42,
   "metadata": {},
   "outputs": [
    {
     "name": "stderr",
     "output_type": "stream",
     "text": [
      "C:\\Users\\user\\Anaconda3\\lib\\site-packages\\ipykernel_launcher.py:11: RuntimeWarning: Mean of empty slice\n",
      "  # This is added back by InteractiveShellApp.init_path()\n"
     ]
    }
   ],
   "source": [
    "amt_stats = df_gpby['NumberOfItemsPurchased', 'CostPerItem'].apply(amt_spent_stats)"
   ]
  },
  {
   "cell_type": "code",
   "execution_count": 43,
   "metadata": {},
   "outputs": [
    {
     "data": {
      "text/html": [
       "<div>\n",
       "<style scoped>\n",
       "    .dataframe tbody tr th:only-of-type {\n",
       "        vertical-align: middle;\n",
       "    }\n",
       "\n",
       "    .dataframe tbody tr th {\n",
       "        vertical-align: top;\n",
       "    }\n",
       "\n",
       "    .dataframe thead th {\n",
       "        text-align: right;\n",
       "    }\n",
       "</style>\n",
       "<table border=\"1\" class=\"dataframe\">\n",
       "  <thead>\n",
       "    <tr style=\"text-align: right;\">\n",
       "      <th></th>\n",
       "      <th>n_transactions</th>\n",
       "      <th>transaction_hour</th>\n",
       "      <th>Mean</th>\n",
       "      <th>Min</th>\n",
       "      <th>Max</th>\n",
       "    </tr>\n",
       "    <tr>\n",
       "      <th>UserId</th>\n",
       "      <th></th>\n",
       "      <th></th>\n",
       "      <th></th>\n",
       "      <th></th>\n",
       "      <th></th>\n",
       "    </tr>\n",
       "  </thead>\n",
       "  <tbody>\n",
       "    <tr>\n",
       "      <td>272517</td>\n",
       "      <td>9</td>\n",
       "      <td>12.000</td>\n",
       "      <td>18.060000</td>\n",
       "      <td>1.62</td>\n",
       "      <td>82.80</td>\n",
       "    </tr>\n",
       "    <tr>\n",
       "      <td>315546</td>\n",
       "      <td>60</td>\n",
       "      <td>9.100</td>\n",
       "      <td>32.085000</td>\n",
       "      <td>5.19</td>\n",
       "      <td>316.71</td>\n",
       "    </tr>\n",
       "    <tr>\n",
       "      <td>329889</td>\n",
       "      <td>6</td>\n",
       "      <td>6.000</td>\n",
       "      <td>92.395000</td>\n",
       "      <td>67.77</td>\n",
       "      <td>158.76</td>\n",
       "    </tr>\n",
       "    <tr>\n",
       "      <td>344232</td>\n",
       "      <td>43</td>\n",
       "      <td>8.000</td>\n",
       "      <td>21.035581</td>\n",
       "      <td>2.28</td>\n",
       "      <td>92.04</td>\n",
       "    </tr>\n",
       "    <tr>\n",
       "      <td>358575</td>\n",
       "      <td>80</td>\n",
       "      <td>8.275</td>\n",
       "      <td>44.914286</td>\n",
       "      <td>1.74</td>\n",
       "      <td>246.33</td>\n",
       "    </tr>\n",
       "  </tbody>\n",
       "</table>\n",
       "</div>"
      ],
      "text/plain": [
       "        n_transactions  transaction_hour       Mean    Min     Max\n",
       "UserId                                                            \n",
       "272517               9            12.000  18.060000   1.62   82.80\n",
       "315546              60             9.100  32.085000   5.19  316.71\n",
       "329889               6             6.000  92.395000  67.77  158.76\n",
       "344232              43             8.000  21.035581   2.28   92.04\n",
       "358575              80             8.275  44.914286   1.74  246.33"
      ]
     },
     "execution_count": 43,
     "metadata": {},
     "output_type": "execute_result"
    }
   ],
   "source": [
    "amt_stats = amt_stats.apply(pd.Series)\n",
    "users = users.join(amt_stats)\n",
    "users.head()"
   ]
  },
  {
   "cell_type": "code",
   "execution_count": 44,
   "metadata": {},
   "outputs": [
    {
     "data": {
      "text/plain": [
       "n_transactions      0\n",
       "transaction_hour    0\n",
       "Mean                0\n",
       "Min                 0\n",
       "Max                 0\n",
       "dtype: int64"
      ]
     },
     "execution_count": 44,
     "metadata": {},
     "output_type": "execute_result"
    }
   ],
   "source": [
    "users.isna().sum() # nans handled"
   ]
  },
  {
   "cell_type": "markdown",
   "metadata": {},
   "source": [
    "#### Average Items returned, Total orders cancelled"
   ]
  },
  {
   "cell_type": "code",
   "execution_count": 45,
   "metadata": {},
   "outputs": [],
   "source": [
    "def avg_returned(returned):\n",
    "    returned[returned == 0] = np.nan\n",
    "    if np.isnan(np.nanmean(returned)):\n",
    "        return 0\n",
    "    else:\n",
    "        return np.nanmean(returned)"
   ]
  },
  {
   "cell_type": "code",
   "execution_count": 46,
   "metadata": {
    "scrolled": true
   },
   "outputs": [
    {
     "name": "stderr",
     "output_type": "stream",
     "text": [
      "C:\\Users\\user\\Anaconda3\\lib\\site-packages\\ipykernel_launcher.py:3: RuntimeWarning: Mean of empty slice\n",
      "  This is separate from the ipykernel package so we can avoid doing imports until\n"
     ]
    },
    {
     "data": {
      "text/html": [
       "<div>\n",
       "<style scoped>\n",
       "    .dataframe tbody tr th:only-of-type {\n",
       "        vertical-align: middle;\n",
       "    }\n",
       "\n",
       "    .dataframe tbody tr th {\n",
       "        vertical-align: top;\n",
       "    }\n",
       "\n",
       "    .dataframe thead th {\n",
       "        text-align: right;\n",
       "    }\n",
       "</style>\n",
       "<table border=\"1\" class=\"dataframe\">\n",
       "  <thead>\n",
       "    <tr style=\"text-align: right;\">\n",
       "      <th></th>\n",
       "      <th>n_transactions</th>\n",
       "      <th>transaction_hour</th>\n",
       "      <th>Mean</th>\n",
       "      <th>Min</th>\n",
       "      <th>Max</th>\n",
       "      <th>returned</th>\n",
       "      <th>cancelled</th>\n",
       "    </tr>\n",
       "    <tr>\n",
       "      <th>UserId</th>\n",
       "      <th></th>\n",
       "      <th></th>\n",
       "      <th></th>\n",
       "      <th></th>\n",
       "      <th></th>\n",
       "      <th></th>\n",
       "      <th></th>\n",
       "    </tr>\n",
       "  </thead>\n",
       "  <tbody>\n",
       "    <tr>\n",
       "      <td>272517</td>\n",
       "      <td>9</td>\n",
       "      <td>12.000</td>\n",
       "      <td>18.060000</td>\n",
       "      <td>1.62</td>\n",
       "      <td>82.80</td>\n",
       "      <td>0</td>\n",
       "      <td>0</td>\n",
       "    </tr>\n",
       "    <tr>\n",
       "      <td>315546</td>\n",
       "      <td>60</td>\n",
       "      <td>9.100</td>\n",
       "      <td>32.085000</td>\n",
       "      <td>5.19</td>\n",
       "      <td>316.71</td>\n",
       "      <td>0</td>\n",
       "      <td>0</td>\n",
       "    </tr>\n",
       "    <tr>\n",
       "      <td>329889</td>\n",
       "      <td>6</td>\n",
       "      <td>6.000</td>\n",
       "      <td>92.395000</td>\n",
       "      <td>67.77</td>\n",
       "      <td>158.76</td>\n",
       "      <td>0</td>\n",
       "      <td>0</td>\n",
       "    </tr>\n",
       "    <tr>\n",
       "      <td>344232</td>\n",
       "      <td>43</td>\n",
       "      <td>8.000</td>\n",
       "      <td>21.035581</td>\n",
       "      <td>2.28</td>\n",
       "      <td>92.04</td>\n",
       "      <td>0</td>\n",
       "      <td>0</td>\n",
       "    </tr>\n",
       "    <tr>\n",
       "      <td>358575</td>\n",
       "      <td>80</td>\n",
       "      <td>8.275</td>\n",
       "      <td>44.914286</td>\n",
       "      <td>1.74</td>\n",
       "      <td>246.33</td>\n",
       "      <td>0</td>\n",
       "      <td>0</td>\n",
       "    </tr>\n",
       "  </tbody>\n",
       "</table>\n",
       "</div>"
      ],
      "text/plain": [
       "        n_transactions  transaction_hour       Mean    Min     Max  returned  \\\n",
       "UserId                                                                         \n",
       "272517               9            12.000  18.060000   1.62   82.80         0   \n",
       "315546              60             9.100  32.085000   5.19  316.71         0   \n",
       "329889               6             6.000  92.395000  67.77  158.76         0   \n",
       "344232              43             8.000  21.035581   2.28   92.04         0   \n",
       "358575              80             8.275  44.914286   1.74  246.33         0   \n",
       "\n",
       "        cancelled  \n",
       "UserId             \n",
       "272517          0  \n",
       "315546          0  \n",
       "329889          0  \n",
       "344232          0  \n",
       "358575          0  "
      ]
     },
     "execution_count": 46,
     "metadata": {},
     "output_type": "execute_result"
    }
   ],
   "source": [
    "df_invalid = df_gpby['returned', 'cancelled'].agg({'returned': avg_returned, 'cancelled': 'sum'})\n",
    "users = users.join(df_invalid)\n",
    "users.head()"
   ]
  },
  {
   "cell_type": "markdown",
   "metadata": {},
   "source": [
    "#### Continent from which (majority of) purchases were made"
   ]
  },
  {
   "cell_type": "code",
   "execution_count": 47,
   "metadata": {},
   "outputs": [
    {
     "data": {
      "text/plain": [
       "United Kingdom    0.890740\n",
       "Germany           0.022715\n",
       "France            0.020396\n",
       "EIRE              0.018682\n",
       "Spain             0.006161\n",
       "Netherlands       0.005828\n",
       "Belgium           0.004930\n",
       "Switzerland       0.004612\n",
       "Portugal          0.003569\n",
       "Australia         0.003142\n",
       "Name: Country, dtype: float64"
      ]
     },
     "execution_count": 47,
     "metadata": {},
     "output_type": "execute_result"
    }
   ],
   "source": [
    "df['Country'].value_counts(normalize = True).nlargest(10) # %age of transactions for top 10 countries"
   ]
  },
  {
   "cell_type": "code",
   "execution_count": 48,
   "metadata": {},
   "outputs": [],
   "source": [
    "df_country = df[['UserId', 'Country']]\n",
    "df_country = df_country.drop_duplicates()"
   ]
  },
  {
   "cell_type": "code",
   "execution_count": 49,
   "metadata": {},
   "outputs": [],
   "source": [
    "country_vc = df_country['UserId'].value_counts()\n",
    "filt = (country_vc > 1) \n",
    "repeated_uids = country_vc[filt].index "
   ]
  },
  {
   "cell_type": "code",
   "execution_count": 50,
   "metadata": {
    "scrolled": false
   },
   "outputs": [
    {
     "data": {
      "text/html": [
       "<div>\n",
       "<style scoped>\n",
       "    .dataframe tbody tr th:only-of-type {\n",
       "        vertical-align: middle;\n",
       "    }\n",
       "\n",
       "    .dataframe tbody tr th {\n",
       "        vertical-align: top;\n",
       "    }\n",
       "\n",
       "    .dataframe thead th {\n",
       "        text-align: right;\n",
       "    }\n",
       "</style>\n",
       "<table border=\"1\" class=\"dataframe\">\n",
       "  <thead>\n",
       "    <tr style=\"text-align: right;\">\n",
       "      <th></th>\n",
       "      <th>UserId</th>\n",
       "      <th>Country</th>\n",
       "    </tr>\n",
       "  </thead>\n",
       "  <tbody>\n",
       "    <tr>\n",
       "      <td>128</td>\n",
       "      <td>259770</td>\n",
       "      <td>Cyprus</td>\n",
       "    </tr>\n",
       "    <tr>\n",
       "      <td>26099</td>\n",
       "      <td>259770</td>\n",
       "      <td>Austria</td>\n",
       "    </tr>\n",
       "    <tr>\n",
       "      <td>10446</td>\n",
       "      <td>260274</td>\n",
       "      <td>Denmark</td>\n",
       "    </tr>\n",
       "    <tr>\n",
       "      <td>21069</td>\n",
       "      <td>260274</td>\n",
       "      <td>Belgium</td>\n",
       "    </tr>\n",
       "    <tr>\n",
       "      <td>7625</td>\n",
       "      <td>260757</td>\n",
       "      <td>Belgium</td>\n",
       "    </tr>\n",
       "    <tr>\n",
       "      <td>32540</td>\n",
       "      <td>260757</td>\n",
       "      <td>Spain</td>\n",
       "    </tr>\n",
       "    <tr>\n",
       "      <td>29305</td>\n",
       "      <td>260862</td>\n",
       "      <td>Australia</td>\n",
       "    </tr>\n",
       "    <tr>\n",
       "      <td>41035</td>\n",
       "      <td>260862</td>\n",
       "      <td>Switzerland</td>\n",
       "    </tr>\n",
       "    <tr>\n",
       "      <td>266</td>\n",
       "      <td>261009</td>\n",
       "      <td>Denmark</td>\n",
       "    </tr>\n",
       "    <tr>\n",
       "      <td>4492</td>\n",
       "      <td>261009</td>\n",
       "      <td>Austria</td>\n",
       "    </tr>\n",
       "    <tr>\n",
       "      <td>747</td>\n",
       "      <td>261051</td>\n",
       "      <td>Australia</td>\n",
       "    </tr>\n",
       "    <tr>\n",
       "      <td>12392</td>\n",
       "      <td>261051</td>\n",
       "      <td>Belgium</td>\n",
       "    </tr>\n",
       "    <tr>\n",
       "      <td>6985</td>\n",
       "      <td>261555</td>\n",
       "      <td>Spain</td>\n",
       "    </tr>\n",
       "    <tr>\n",
       "      <td>18097</td>\n",
       "      <td>261555</td>\n",
       "      <td>Cyprus</td>\n",
       "    </tr>\n",
       "    <tr>\n",
       "      <td>2978</td>\n",
       "      <td>261597</td>\n",
       "      <td>Switzerland</td>\n",
       "    </tr>\n",
       "    <tr>\n",
       "      <td>224533</td>\n",
       "      <td>261597</td>\n",
       "      <td>Cyprus</td>\n",
       "    </tr>\n",
       "  </tbody>\n",
       "</table>\n",
       "</div>"
      ],
      "text/plain": [
       "        UserId      Country\n",
       "128     259770       Cyprus\n",
       "26099   259770      Austria\n",
       "10446   260274      Denmark\n",
       "21069   260274      Belgium\n",
       "7625    260757      Belgium\n",
       "32540   260757        Spain\n",
       "29305   260862    Australia\n",
       "41035   260862  Switzerland\n",
       "266     261009      Denmark\n",
       "4492    261009      Austria\n",
       "747     261051    Australia\n",
       "12392   261051      Belgium\n",
       "6985    261555        Spain\n",
       "18097   261555       Cyprus\n",
       "2978    261597  Switzerland\n",
       "224533  261597       Cyprus"
      ]
     },
     "execution_count": 50,
     "metadata": {},
     "output_type": "execute_result"
    }
   ],
   "source": [
    "# Observation: These users have made purchases from multiple countries\n",
    "\n",
    "df_country.loc[df_country['UserId'].isin(repeated_uids)].sort_values(by = 'UserId')"
   ]
  },
  {
   "cell_type": "code",
   "execution_count": 51,
   "metadata": {},
   "outputs": [
    {
     "name": "stdout",
     "output_type": "stream",
     "text": [
      "261555 - 0.52 - Spain\n",
      "260862 - 0.55 - Australia\n",
      "259770 - 0.96 - Cyprus\n",
      "261051 - 0.78 - Australia\n",
      "261597 - 0.95 - Switzerland\n",
      "260757 - 0.88 - Belgium\n",
      "261009 - 0.79 - Denmark\n",
      "260274 - 0.8 - Belgium\n"
     ]
    }
   ],
   "source": [
    "for uid in repeated_uids:\n",
    "    uid_vc = df.loc[df['UserId'] == uid]['Country'].value_counts()\n",
    "    perc = uid_vc.iloc[0] / sum(uid_vc.iloc[:])\n",
    "    print(uid, '-', round(perc, 2), '-', uid_vc.index[0])\n",
    "\n",
    "# Conclusion: Most users (except 261555 and 260862) have a clear country of preference"
   ]
  },
  {
   "cell_type": "code",
   "execution_count": 52,
   "metadata": {},
   "outputs": [],
   "source": [
    "# Strategy: set country as the one with most purchases\n",
    "\n",
    "for uid in repeated_uids:\n",
    "    uid_vc = df.loc[df['UserId'] == uid]['Country'].value_counts()\n",
    "    df_country.loc[df['UserId'] == uid, 'Country'] = uid_vc.index[0]\n",
    "\n",
    "df_country.drop_duplicates(inplace = True)"
   ]
  },
  {
   "cell_type": "code",
   "execution_count": 53,
   "metadata": {},
   "outputs": [
    {
     "data": {
      "text/html": [
       "<div>\n",
       "<style scoped>\n",
       "    .dataframe tbody tr th:only-of-type {\n",
       "        vertical-align: middle;\n",
       "    }\n",
       "\n",
       "    .dataframe tbody tr th {\n",
       "        vertical-align: top;\n",
       "    }\n",
       "\n",
       "    .dataframe thead th {\n",
       "        text-align: right;\n",
       "    }\n",
       "</style>\n",
       "<table border=\"1\" class=\"dataframe\">\n",
       "  <thead>\n",
       "    <tr style=\"text-align: right;\">\n",
       "      <th></th>\n",
       "      <th>UserId</th>\n",
       "      <th>Country</th>\n",
       "    </tr>\n",
       "  </thead>\n",
       "  <tbody>\n",
       "    <tr>\n",
       "      <td>2410</td>\n",
       "      <td>267603</td>\n",
       "      <td>Unspecified</td>\n",
       "    </tr>\n",
       "    <tr>\n",
       "      <td>8587</td>\n",
       "      <td>342720</td>\n",
       "      <td>Unspecified</td>\n",
       "    </tr>\n",
       "    <tr>\n",
       "      <td>10945</td>\n",
       "      <td>299565</td>\n",
       "      <td>Unspecified</td>\n",
       "    </tr>\n",
       "    <tr>\n",
       "      <td>24468</td>\n",
       "      <td>259623</td>\n",
       "      <td>Unspecified</td>\n",
       "    </tr>\n",
       "  </tbody>\n",
       "</table>\n",
       "</div>"
      ],
      "text/plain": [
       "       UserId      Country\n",
       "2410   267603  Unspecified\n",
       "8587   342720  Unspecified\n",
       "10945  299565  Unspecified\n",
       "24468  259623  Unspecified"
      ]
     },
     "execution_count": 53,
     "metadata": {},
     "output_type": "execute_result"
    }
   ],
   "source": [
    "# Observation: Some users have not specified their location \n",
    "# Strategy: set their location to United Kingdom, since around 89% \n",
    "#           purchases are from United Kingdom\n",
    "\n",
    "df_country.loc[df_country['Country'].str.contains('Unspecified')]"
   ]
  },
  {
   "cell_type": "code",
   "execution_count": 54,
   "metadata": {
    "scrolled": false
   },
   "outputs": [],
   "source": [
    "# pycountry package has these alternate names. \n",
    "\n",
    "df_country['Country'] = df_country['Country'].replace({'EIRE': 'Ireland', \n",
    "                                                       'RSA': 'South Africa', \n",
    "                                                       'Unspecified': 'United Kingdom',\n",
    "                                                       'Channel Islands': 'Cayman Islands',\n",
    "                                                       'European Community': 'Poland'})\n",
    "\n",
    "def country_to_continent(country_name):    \n",
    "    \n",
    "    country_alpha2 = pc.country_name_to_country_alpha2(country_name)\n",
    "    country_continent_code = pc.country_alpha2_to_continent_code(country_alpha2)\n",
    "    country_continent_name = pc.convert_continent_code_to_continent_name(country_continent_code)\n",
    "    return country_continent_name\n",
    "\n",
    "df_country['Continent'] = df_country['Country'].apply(country_to_continent)\n",
    "df_country.drop('Country', axis = 1, inplace = True)\n",
    "df_country = df_country.set_index('UserId')\n",
    "\n",
    "# Note: some country's names have been changed to another country's name, but from the same continent."
   ]
  },
  {
   "cell_type": "code",
   "execution_count": 55,
   "metadata": {},
   "outputs": [
    {
     "data": {
      "text/html": [
       "<div>\n",
       "<style scoped>\n",
       "    .dataframe tbody tr th:only-of-type {\n",
       "        vertical-align: middle;\n",
       "    }\n",
       "\n",
       "    .dataframe tbody tr th {\n",
       "        vertical-align: top;\n",
       "    }\n",
       "\n",
       "    .dataframe thead th {\n",
       "        text-align: right;\n",
       "    }\n",
       "</style>\n",
       "<table border=\"1\" class=\"dataframe\">\n",
       "  <thead>\n",
       "    <tr style=\"text-align: right;\">\n",
       "      <th></th>\n",
       "      <th>n_transactions</th>\n",
       "      <th>transaction_hour</th>\n",
       "      <th>Mean</th>\n",
       "      <th>Min</th>\n",
       "      <th>Max</th>\n",
       "      <th>returned</th>\n",
       "      <th>cancelled</th>\n",
       "      <th>Africa</th>\n",
       "      <th>Asia</th>\n",
       "      <th>Europe</th>\n",
       "      <th>North America</th>\n",
       "      <th>Australia</th>\n",
       "      <th>South America</th>\n",
       "    </tr>\n",
       "    <tr>\n",
       "      <th>UserId</th>\n",
       "      <th></th>\n",
       "      <th></th>\n",
       "      <th></th>\n",
       "      <th></th>\n",
       "      <th></th>\n",
       "      <th></th>\n",
       "      <th></th>\n",
       "      <th></th>\n",
       "      <th></th>\n",
       "      <th></th>\n",
       "      <th></th>\n",
       "      <th></th>\n",
       "      <th></th>\n",
       "    </tr>\n",
       "  </thead>\n",
       "  <tbody>\n",
       "    <tr>\n",
       "      <td>272517</td>\n",
       "      <td>9</td>\n",
       "      <td>12.000</td>\n",
       "      <td>18.060000</td>\n",
       "      <td>1.62</td>\n",
       "      <td>82.80</td>\n",
       "      <td>0</td>\n",
       "      <td>0</td>\n",
       "      <td>0</td>\n",
       "      <td>0</td>\n",
       "      <td>1</td>\n",
       "      <td>0</td>\n",
       "      <td>0</td>\n",
       "      <td>0</td>\n",
       "    </tr>\n",
       "    <tr>\n",
       "      <td>315546</td>\n",
       "      <td>60</td>\n",
       "      <td>9.100</td>\n",
       "      <td>32.085000</td>\n",
       "      <td>5.19</td>\n",
       "      <td>316.71</td>\n",
       "      <td>0</td>\n",
       "      <td>0</td>\n",
       "      <td>0</td>\n",
       "      <td>0</td>\n",
       "      <td>1</td>\n",
       "      <td>0</td>\n",
       "      <td>0</td>\n",
       "      <td>0</td>\n",
       "    </tr>\n",
       "    <tr>\n",
       "      <td>329889</td>\n",
       "      <td>6</td>\n",
       "      <td>6.000</td>\n",
       "      <td>92.395000</td>\n",
       "      <td>67.77</td>\n",
       "      <td>158.76</td>\n",
       "      <td>0</td>\n",
       "      <td>0</td>\n",
       "      <td>0</td>\n",
       "      <td>0</td>\n",
       "      <td>1</td>\n",
       "      <td>0</td>\n",
       "      <td>0</td>\n",
       "      <td>0</td>\n",
       "    </tr>\n",
       "    <tr>\n",
       "      <td>344232</td>\n",
       "      <td>43</td>\n",
       "      <td>8.000</td>\n",
       "      <td>21.035581</td>\n",
       "      <td>2.28</td>\n",
       "      <td>92.04</td>\n",
       "      <td>0</td>\n",
       "      <td>0</td>\n",
       "      <td>0</td>\n",
       "      <td>0</td>\n",
       "      <td>1</td>\n",
       "      <td>0</td>\n",
       "      <td>0</td>\n",
       "      <td>0</td>\n",
       "    </tr>\n",
       "    <tr>\n",
       "      <td>358575</td>\n",
       "      <td>80</td>\n",
       "      <td>8.275</td>\n",
       "      <td>44.914286</td>\n",
       "      <td>1.74</td>\n",
       "      <td>246.33</td>\n",
       "      <td>0</td>\n",
       "      <td>0</td>\n",
       "      <td>0</td>\n",
       "      <td>0</td>\n",
       "      <td>1</td>\n",
       "      <td>0</td>\n",
       "      <td>0</td>\n",
       "      <td>0</td>\n",
       "    </tr>\n",
       "  </tbody>\n",
       "</table>\n",
       "</div>"
      ],
      "text/plain": [
       "        n_transactions  transaction_hour       Mean    Min     Max  returned  \\\n",
       "UserId                                                                         \n",
       "272517               9            12.000  18.060000   1.62   82.80         0   \n",
       "315546              60             9.100  32.085000   5.19  316.71         0   \n",
       "329889               6             6.000  92.395000  67.77  158.76         0   \n",
       "344232              43             8.000  21.035581   2.28   92.04         0   \n",
       "358575              80             8.275  44.914286   1.74  246.33         0   \n",
       "\n",
       "        cancelled  Africa  Asia  Europe  North America  Australia  \\\n",
       "UserId                                                              \n",
       "272517          0       0     0       1              0          0   \n",
       "315546          0       0     0       1              0          0   \n",
       "329889          0       0     0       1              0          0   \n",
       "344232          0       0     0       1              0          0   \n",
       "358575          0       0     0       1              0          0   \n",
       "\n",
       "        South America  \n",
       "UserId                 \n",
       "272517              0  \n",
       "315546              0  \n",
       "329889              0  \n",
       "344232              0  \n",
       "358575              0  "
      ]
     },
     "execution_count": 55,
     "metadata": {},
     "output_type": "execute_result"
    }
   ],
   "source": [
    "oh_continent = pd.get_dummies(df_country['Continent'])\n",
    "users = users.join(oh_continent)\n",
    "users = users.rename(columns = {'Oceania': 'Australia'})\n",
    "users.head()"
   ]
  },
  {
   "cell_type": "markdown",
   "metadata": {},
   "source": [
    "#### Clusters of purchase history "
   ]
  },
  {
   "cell_type": "code",
   "execution_count": 56,
   "metadata": {},
   "outputs": [],
   "source": [
    "# Strategy: purchases separated by more than 15 (a threshold no. of) days forms a new cluster \n",
    "#           of purchases. Number of clusters, avg and total no. of unique days of purchase \n",
    "#           across clusters, are useful features (found by experimentation). \n",
    "\n",
    "threshold = 15 \n",
    "def get_1d_clusters(x):\n",
    "       \n",
    "    diff = np.diff(x)\n",
    "    new_cluster_idx = np.where(diff > threshold)[0] + 1\n",
    "\n",
    "    if len(new_cluster_idx) > 0:\n",
    "        labels = []\n",
    "        j, label = 0, 0\n",
    "        change_idx = new_cluster_idx[j]\n",
    "\n",
    "        for i in range(len(x)):\n",
    "            if i < change_idx:\n",
    "                labels.append(label)\n",
    "            else:\n",
    "                j += 1\n",
    "                label += 1\n",
    "                if j < len(new_cluster_idx):\n",
    "                    change_idx = new_cluster_idx[j]\n",
    "                else:\n",
    "                    change_idx = np.Inf\n",
    "                labels.append(label)\n",
    "    else:\n",
    "        labels = np.zeros(len(x))\n",
    "\n",
    "    return labels"
   ]
  },
  {
   "cell_type": "code",
   "execution_count": 57,
   "metadata": {
    "scrolled": false
   },
   "outputs": [],
   "source": [
    "user_ids = [] \n",
    "user_stats = [] \n",
    "\n",
    "\n",
    "for userid, group in df_gpby:\n",
    "    dates = group.loc[:, ['TransactionDate']]\n",
    "    dates = ((dates - dates.min()) / np.timedelta64(1, 'D')).astype(int)\n",
    "    dates = dates.iloc[:, 0]\n",
    "    dates = dates.sort_values()\n",
    "    labels = get_1d_clusters(dates)\n",
    "    labels_unique = np.unique(labels)\n",
    "    \n",
    "    n_unique = []\n",
    "    total_unique = 0\n",
    "    for label in labels_unique:\n",
    "        my_members = (labels == label)\n",
    "        my_cluster = dates[my_members]\n",
    "        my_cluster = np.unique(my_cluster)\n",
    "        n_unique.append(len(my_cluster)) \n",
    "        total_unique += len(my_cluster)\n",
    "\n",
    "    n_unique = np.mean(n_unique)    \n",
    "    user_ids.append(userid)\n",
    "    user_stats.append({\n",
    "        'cl_avg_unique': n_unique,\n",
    "        'cl_nclusters': len(labels_unique),\n",
    "        'cl_total_unique': total_unique\n",
    "    })\n",
    "    "
   ]
  },
  {
   "cell_type": "code",
   "execution_count": 58,
   "metadata": {},
   "outputs": [],
   "source": [
    "df_user_stats = pd.DataFrame(user_stats, index = user_ids)\n",
    "users = users.join(df_user_stats)"
   ]
  },
  {
   "cell_type": "markdown",
   "metadata": {},
   "source": [
    "#### Days since last purchase date"
   ]
  },
  {
   "cell_type": "code",
   "execution_count": 59,
   "metadata": {},
   "outputs": [],
   "source": [
    "user_ids = []\n",
    "last_purchase_list = []\n",
    "\n",
    "last_date = df['TransactionDate'].max() # taken as current date\n",
    "for userid, group in df_gpby:\n",
    "    my_last = group['TransactionDate'].max() \n",
    "    days_since = ((last_date - my_last) / np.timedelta64(1, 'D'))\n",
    "    \n",
    "    user_ids.append(userid)\n",
    "    last_purchase_list.append({\n",
    "        'days_since': days_since\n",
    "    })"
   ]
  },
  {
   "cell_type": "code",
   "execution_count": 60,
   "metadata": {},
   "outputs": [
    {
     "data": {
      "text/html": [
       "<div>\n",
       "<style scoped>\n",
       "    .dataframe tbody tr th:only-of-type {\n",
       "        vertical-align: middle;\n",
       "    }\n",
       "\n",
       "    .dataframe tbody tr th {\n",
       "        vertical-align: top;\n",
       "    }\n",
       "\n",
       "    .dataframe thead th {\n",
       "        text-align: right;\n",
       "    }\n",
       "</style>\n",
       "<table border=\"1\" class=\"dataframe\">\n",
       "  <thead>\n",
       "    <tr style=\"text-align: right;\">\n",
       "      <th></th>\n",
       "      <th>n_transactions</th>\n",
       "      <th>transaction_hour</th>\n",
       "      <th>Mean</th>\n",
       "      <th>Min</th>\n",
       "      <th>Max</th>\n",
       "      <th>returned</th>\n",
       "      <th>cancelled</th>\n",
       "      <th>Africa</th>\n",
       "      <th>Asia</th>\n",
       "      <th>Europe</th>\n",
       "      <th>North America</th>\n",
       "      <th>Australia</th>\n",
       "      <th>South America</th>\n",
       "      <th>cl_avg_unique</th>\n",
       "      <th>cl_nclusters</th>\n",
       "      <th>cl_total_unique</th>\n",
       "      <th>days_since</th>\n",
       "    </tr>\n",
       "    <tr>\n",
       "      <th>UserId</th>\n",
       "      <th></th>\n",
       "      <th></th>\n",
       "      <th></th>\n",
       "      <th></th>\n",
       "      <th></th>\n",
       "      <th></th>\n",
       "      <th></th>\n",
       "      <th></th>\n",
       "      <th></th>\n",
       "      <th></th>\n",
       "      <th></th>\n",
       "      <th></th>\n",
       "      <th></th>\n",
       "      <th></th>\n",
       "      <th></th>\n",
       "      <th></th>\n",
       "      <th></th>\n",
       "    </tr>\n",
       "  </thead>\n",
       "  <tbody>\n",
       "    <tr>\n",
       "      <td>272517</td>\n",
       "      <td>9</td>\n",
       "      <td>12.000</td>\n",
       "      <td>18.060000</td>\n",
       "      <td>1.62</td>\n",
       "      <td>82.80</td>\n",
       "      <td>0</td>\n",
       "      <td>0</td>\n",
       "      <td>0</td>\n",
       "      <td>0</td>\n",
       "      <td>1</td>\n",
       "      <td>0</td>\n",
       "      <td>0</td>\n",
       "      <td>0</td>\n",
       "      <td>1.0</td>\n",
       "      <td>1</td>\n",
       "      <td>1</td>\n",
       "      <td>441.0</td>\n",
       "    </tr>\n",
       "    <tr>\n",
       "      <td>315546</td>\n",
       "      <td>60</td>\n",
       "      <td>9.100</td>\n",
       "      <td>32.085000</td>\n",
       "      <td>5.19</td>\n",
       "      <td>316.71</td>\n",
       "      <td>0</td>\n",
       "      <td>0</td>\n",
       "      <td>0</td>\n",
       "      <td>0</td>\n",
       "      <td>1</td>\n",
       "      <td>0</td>\n",
       "      <td>0</td>\n",
       "      <td>0</td>\n",
       "      <td>1.0</td>\n",
       "      <td>3</td>\n",
       "      <td>3</td>\n",
       "      <td>525.0</td>\n",
       "    </tr>\n",
       "    <tr>\n",
       "      <td>329889</td>\n",
       "      <td>6</td>\n",
       "      <td>6.000</td>\n",
       "      <td>92.395000</td>\n",
       "      <td>67.77</td>\n",
       "      <td>158.76</td>\n",
       "      <td>0</td>\n",
       "      <td>0</td>\n",
       "      <td>0</td>\n",
       "      <td>0</td>\n",
       "      <td>1</td>\n",
       "      <td>0</td>\n",
       "      <td>0</td>\n",
       "      <td>0</td>\n",
       "      <td>1.0</td>\n",
       "      <td>1</td>\n",
       "      <td>1</td>\n",
       "      <td>568.0</td>\n",
       "    </tr>\n",
       "    <tr>\n",
       "      <td>344232</td>\n",
       "      <td>43</td>\n",
       "      <td>8.000</td>\n",
       "      <td>21.035581</td>\n",
       "      <td>2.28</td>\n",
       "      <td>92.04</td>\n",
       "      <td>0</td>\n",
       "      <td>0</td>\n",
       "      <td>0</td>\n",
       "      <td>0</td>\n",
       "      <td>1</td>\n",
       "      <td>0</td>\n",
       "      <td>0</td>\n",
       "      <td>0</td>\n",
       "      <td>1.0</td>\n",
       "      <td>1</td>\n",
       "      <td>1</td>\n",
       "      <td>554.0</td>\n",
       "    </tr>\n",
       "    <tr>\n",
       "      <td>358575</td>\n",
       "      <td>80</td>\n",
       "      <td>8.275</td>\n",
       "      <td>44.914286</td>\n",
       "      <td>1.74</td>\n",
       "      <td>246.33</td>\n",
       "      <td>0</td>\n",
       "      <td>0</td>\n",
       "      <td>0</td>\n",
       "      <td>0</td>\n",
       "      <td>1</td>\n",
       "      <td>0</td>\n",
       "      <td>0</td>\n",
       "      <td>0</td>\n",
       "      <td>1.0</td>\n",
       "      <td>4</td>\n",
       "      <td>4</td>\n",
       "      <td>275.0</td>\n",
       "    </tr>\n",
       "  </tbody>\n",
       "</table>\n",
       "</div>"
      ],
      "text/plain": [
       "        n_transactions  transaction_hour       Mean    Min     Max  returned  \\\n",
       "UserId                                                                         \n",
       "272517               9            12.000  18.060000   1.62   82.80         0   \n",
       "315546              60             9.100  32.085000   5.19  316.71         0   \n",
       "329889               6             6.000  92.395000  67.77  158.76         0   \n",
       "344232              43             8.000  21.035581   2.28   92.04         0   \n",
       "358575              80             8.275  44.914286   1.74  246.33         0   \n",
       "\n",
       "        cancelled  Africa  Asia  Europe  North America  Australia  \\\n",
       "UserId                                                              \n",
       "272517          0       0     0       1              0          0   \n",
       "315546          0       0     0       1              0          0   \n",
       "329889          0       0     0       1              0          0   \n",
       "344232          0       0     0       1              0          0   \n",
       "358575          0       0     0       1              0          0   \n",
       "\n",
       "        South America  cl_avg_unique  cl_nclusters  cl_total_unique  \\\n",
       "UserId                                                                \n",
       "272517              0            1.0             1                1   \n",
       "315546              0            1.0             3                3   \n",
       "329889              0            1.0             1                1   \n",
       "344232              0            1.0             1                1   \n",
       "358575              0            1.0             4                4   \n",
       "\n",
       "        days_since  \n",
       "UserId              \n",
       "272517       441.0  \n",
       "315546       525.0  \n",
       "329889       568.0  \n",
       "344232       554.0  \n",
       "358575       275.0  "
      ]
     },
     "execution_count": 60,
     "metadata": {},
     "output_type": "execute_result"
    }
   ],
   "source": [
    "df_last = pd.DataFrame(last_purchase_list, index = user_ids)\n",
    "users = users.join(df_last)\n",
    "users.head()"
   ]
  },
  {
   "cell_type": "markdown",
   "metadata": {},
   "source": [
    "#### Amount spent on different product categories "
   ]
  },
  {
   "cell_type": "code",
   "execution_count": 61,
   "metadata": {},
   "outputs": [
    {
     "data": {
      "text/html": [
       "<div>\n",
       "<style scoped>\n",
       "    .dataframe tbody tr th:only-of-type {\n",
       "        vertical-align: middle;\n",
       "    }\n",
       "\n",
       "    .dataframe tbody tr th {\n",
       "        vertical-align: top;\n",
       "    }\n",
       "\n",
       "    .dataframe thead th {\n",
       "        text-align: right;\n",
       "    }\n",
       "</style>\n",
       "<table border=\"1\" class=\"dataframe\">\n",
       "  <thead>\n",
       "    <tr style=\"text-align: right;\">\n",
       "      <th></th>\n",
       "      <th>ItemCode</th>\n",
       "      <th>ItemDescription</th>\n",
       "    </tr>\n",
       "  </thead>\n",
       "  <tbody>\n",
       "    <tr>\n",
       "      <td>0</td>\n",
       "      <td>465549</td>\n",
       "      <td>FAMILY ALBUM WHITE PICTURE FRAME</td>\n",
       "    </tr>\n",
       "    <tr>\n",
       "      <td>1</td>\n",
       "      <td>482370</td>\n",
       "      <td>LONDON BUS COFFEE MUG</td>\n",
       "    </tr>\n",
       "    <tr>\n",
       "      <td>2</td>\n",
       "      <td>490728</td>\n",
       "      <td>SET 12 COLOUR PENCILS DOLLY GIRL</td>\n",
       "    </tr>\n",
       "    <tr>\n",
       "      <td>3</td>\n",
       "      <td>459186</td>\n",
       "      <td>UNION JACK FLAG LUGGAGE TAG</td>\n",
       "    </tr>\n",
       "    <tr>\n",
       "      <td>5</td>\n",
       "      <td>1787247</td>\n",
       "      <td>CUT GLASS T-LIGHT HOLDER OCTAGON</td>\n",
       "    </tr>\n",
       "  </tbody>\n",
       "</table>\n",
       "</div>"
      ],
      "text/plain": [
       "   ItemCode                    ItemDescription\n",
       "0    465549   FAMILY ALBUM WHITE PICTURE FRAME\n",
       "1    482370              LONDON BUS COFFEE MUG\n",
       "2    490728  SET 12 COLOUR PENCILS DOLLY GIRL \n",
       "3    459186        UNION JACK FLAG LUGGAGE TAG\n",
       "5   1787247   CUT GLASS T-LIGHT HOLDER OCTAGON"
      ]
     },
     "execution_count": 61,
     "metadata": {},
     "output_type": "execute_result"
    }
   ],
   "source": [
    "df_products = df.loc[:, ['ItemCode', 'ItemDescription']]\n",
    "df_products.drop_duplicates(inplace = True)\n",
    "df_products.head()"
   ]
  },
  {
   "cell_type": "code",
   "execution_count": 62,
   "metadata": {},
   "outputs": [
    {
     "name": "stdout",
     "output_type": "stream",
     "text": [
      "Num. rows: 3907\n",
      "Num products: 3209\n"
     ]
    }
   ],
   "source": [
    "print(f\"Num. rows: {df_products.shape[0]}\") \n",
    "print(f\"Num products: {df_products['ItemCode'].nunique()}\")"
   ]
  },
  {
   "cell_type": "code",
   "execution_count": 63,
   "metadata": {},
   "outputs": [
    {
     "data": {
      "text/plain": [
       "1894494    24\n",
       "1784937     8\n",
       "1786029     8\n",
       "1784328     6\n",
       "1776516     6\n",
       "           ..\n",
       "999054      2\n",
       "340347      2\n",
       "478884      2\n",
       "1734600     2\n",
       "752199      2\n",
       "Name: ItemCode, Length: 456, dtype: int64"
      ]
     },
     "execution_count": 63,
     "metadata": {},
     "output_type": "execute_result"
    }
   ],
   "source": [
    "val_cnts = df_products['ItemCode'].value_counts()\n",
    "filt = (val_cnts > 1)\n",
    "val_cnts[filt]"
   ]
  },
  {
   "cell_type": "code",
   "execution_count": 64,
   "metadata": {},
   "outputs": [
    {
     "data": {
      "text/html": [
       "<div>\n",
       "<style scoped>\n",
       "    .dataframe tbody tr th:only-of-type {\n",
       "        vertical-align: middle;\n",
       "    }\n",
       "\n",
       "    .dataframe tbody tr th {\n",
       "        vertical-align: top;\n",
       "    }\n",
       "\n",
       "    .dataframe thead th {\n",
       "        text-align: right;\n",
       "    }\n",
       "</style>\n",
       "<table border=\"1\" class=\"dataframe\">\n",
       "  <thead>\n",
       "    <tr style=\"text-align: right;\">\n",
       "      <th></th>\n",
       "      <th>ItemCode</th>\n",
       "      <th>ItemDescription</th>\n",
       "    </tr>\n",
       "  </thead>\n",
       "  <tbody>\n",
       "    <tr>\n",
       "      <td>358</td>\n",
       "      <td>1786029</td>\n",
       "      <td>BABY BOOM RIBBONS</td>\n",
       "    </tr>\n",
       "    <tr>\n",
       "      <td>514</td>\n",
       "      <td>1786029</td>\n",
       "      <td>CHOCOLATE BOX RIBBONS</td>\n",
       "    </tr>\n",
       "    <tr>\n",
       "      <td>779</td>\n",
       "      <td>1786029</td>\n",
       "      <td>TRADITIONAL CHRISTMAS RIBBONS</td>\n",
       "    </tr>\n",
       "    <tr>\n",
       "      <td>1129</td>\n",
       "      <td>1786029</td>\n",
       "      <td>URBAN BLACK RIBBONS</td>\n",
       "    </tr>\n",
       "    <tr>\n",
       "      <td>1320</td>\n",
       "      <td>1786029</td>\n",
       "      <td>ROMANTIC PINKS RIBBONS</td>\n",
       "    </tr>\n",
       "    <tr>\n",
       "      <td>2189</td>\n",
       "      <td>1786029</td>\n",
       "      <td>SCANDINAVIAN REDS RIBBONS</td>\n",
       "    </tr>\n",
       "    <tr>\n",
       "      <td>4290</td>\n",
       "      <td>1786029</td>\n",
       "      <td>BRIGHT BLUES RIBBONS</td>\n",
       "    </tr>\n",
       "    <tr>\n",
       "      <td>28757</td>\n",
       "      <td>1786029</td>\n",
       "      <td>LUSH GREENS RIBBONS</td>\n",
       "    </tr>\n",
       "  </tbody>\n",
       "</table>\n",
       "</div>"
      ],
      "text/plain": [
       "       ItemCode                ItemDescription\n",
       "358     1786029             BABY BOOM RIBBONS \n",
       "514     1786029         CHOCOLATE BOX RIBBONS \n",
       "779     1786029  TRADITIONAL CHRISTMAS RIBBONS\n",
       "1129    1786029           URBAN BLACK RIBBONS \n",
       "1320    1786029        ROMANTIC PINKS RIBBONS \n",
       "2189    1786029      SCANDINAVIAN REDS RIBBONS\n",
       "4290    1786029          BRIGHT BLUES RIBBONS \n",
       "28757   1786029            LUSH GREENS RIBBONS"
      ]
     },
     "execution_count": 64,
     "metadata": {},
     "output_type": "execute_result"
    }
   ],
   "source": [
    "# Observation: There are multiple rows with the same itemcode because of a difference in description\n",
    "#              But these differences are because of specific model differences like the specific \n",
    "#              component of a set, for eg. So we will keep the description of the first entry. \n",
    "\n",
    "df_products.loc[df_products['ItemCode'] == 1786029]"
   ]
  },
  {
   "cell_type": "code",
   "execution_count": 65,
   "metadata": {},
   "outputs": [],
   "source": [
    "df_products.drop_duplicates(subset = 'ItemCode', keep = 'first', inplace = True)"
   ]
  },
  {
   "cell_type": "code",
   "execution_count": 66,
   "metadata": {},
   "outputs": [
    {
     "name": "stdout",
     "output_type": "stream",
     "text": [
      "Num. rows: 3209\n",
      "Num products: 3209\n"
     ]
    }
   ],
   "source": [
    "print(f\"Num. rows: {df_products.shape[0]}\") \n",
    "print(f\"Num products: {df_products['ItemCode'].nunique()}\")"
   ]
  },
  {
   "cell_type": "code",
   "execution_count": 67,
   "metadata": {},
   "outputs": [],
   "source": [
    "df_products = df_products.set_index('ItemCode')"
   ]
  },
  {
   "cell_type": "code",
   "execution_count": 68,
   "metadata": {},
   "outputs": [],
   "source": [
    "# Strategy: Find the stem of each word (nltk stemmers). Filter for stopwords (English)\n",
    "#           as well as custom stopwords (eg. set, pack, colors, numbers, specific punctuations, \n",
    "#           sizes, etc). Form a new description string with these rules. \n",
    "\n",
    "def text_preprocess(extra_stopwords = []):\n",
    "    \n",
    "    def preprocess(description, extra_stopwords = extra_stopwords):\n",
    "        stemmer = PorterStemmer()\n",
    "        word_tokens = word_tokenize(description)\n",
    "        stop_words = set(stopwords.words('english'))\n",
    "        stop_words.update(extra_stopwords)\n",
    "        filtered_words = [w.lower() for w in word_tokens if not w.lower() in stop_words]\n",
    "\n",
    "        stem_sentence = []\n",
    "        for word in filtered_words:\n",
    "            root = stemmer.stem(word)\n",
    "            if not '+' in root:\n",
    "                stem_sentence.append(root)\n",
    "                stem_sentence.append(\" \")\n",
    "            else:\n",
    "                roots = root.split('+')\n",
    "                for root in roots:\n",
    "                    stem_sentence.append(stemmer.stem(root))\n",
    "                    stem_sentence.append(\" \")\n",
    "\n",
    "        return ''.join(stem_sentence)\n",
    "        \n",
    "    return preprocess\n",
    "\n",
    "collections = ['set', 'pack']\n",
    "symbols = ['+', '-', '/', ',', ' ']\n",
    "numbers = [str(i) for i in range(100)]\n",
    "colors = ['white', 'pink', 'red', 'blue', 'black', 'yellow']\n",
    "sizes = ['large', 'l', 'm', 's', 'small', 'medium', 'extra', 'xl', 'xxl']\n",
    "extra_stopwords = collections + numbers + symbols + colors + sizes"
   ]
  },
  {
   "cell_type": "code",
   "execution_count": 69,
   "metadata": {
    "scrolled": false
   },
   "outputs": [
    {
     "data": {
      "text/html": [
       "<div>\n",
       "<style scoped>\n",
       "    .dataframe tbody tr th:only-of-type {\n",
       "        vertical-align: middle;\n",
       "    }\n",
       "\n",
       "    .dataframe tbody tr th {\n",
       "        vertical-align: top;\n",
       "    }\n",
       "\n",
       "    .dataframe thead th {\n",
       "        text-align: right;\n",
       "    }\n",
       "</style>\n",
       "<table border=\"1\" class=\"dataframe\">\n",
       "  <thead>\n",
       "    <tr style=\"text-align: right;\">\n",
       "      <th></th>\n",
       "      <th>ItemDescription</th>\n",
       "    </tr>\n",
       "    <tr>\n",
       "      <th>ItemCode</th>\n",
       "      <th></th>\n",
       "    </tr>\n",
       "  </thead>\n",
       "  <tbody>\n",
       "    <tr>\n",
       "      <td>465549</td>\n",
       "      <td>famili album pictur frame</td>\n",
       "    </tr>\n",
       "    <tr>\n",
       "      <td>482370</td>\n",
       "      <td>london bu coffe mug</td>\n",
       "    </tr>\n",
       "    <tr>\n",
       "      <td>490728</td>\n",
       "      <td>colour pencil dolli girl</td>\n",
       "    </tr>\n",
       "    <tr>\n",
       "      <td>459186</td>\n",
       "      <td>union jack flag luggag tag</td>\n",
       "    </tr>\n",
       "    <tr>\n",
       "      <td>1787247</td>\n",
       "      <td>cut glass t-light holder octagon</td>\n",
       "    </tr>\n",
       "    <tr>\n",
       "      <td>471576</td>\n",
       "      <td>natur slate chalkboard</td>\n",
       "    </tr>\n",
       "    <tr>\n",
       "      <td>1783845</td>\n",
       "      <td>multi colour silver t-light holder</td>\n",
       "    </tr>\n",
       "    <tr>\n",
       "      <td>494802</td>\n",
       "      <td>ribbon perfectli pretti</td>\n",
       "    </tr>\n",
       "    <tr>\n",
       "      <td>460215</td>\n",
       "      <td>harmonica box</td>\n",
       "    </tr>\n",
       "    <tr>\n",
       "      <td>459669</td>\n",
       "      <td>wooden box domino</td>\n",
       "    </tr>\n",
       "  </tbody>\n",
       "</table>\n",
       "</div>"
      ],
      "text/plain": [
       "                              ItemDescription\n",
       "ItemCode                                     \n",
       "465549             famili album pictur frame \n",
       "482370                   london bu coffe mug \n",
       "490728              colour pencil dolli girl \n",
       "459186            union jack flag luggag tag \n",
       "1787247     cut glass t-light holder octagon \n",
       "471576                natur slate chalkboard \n",
       "1783845   multi colour silver t-light holder \n",
       "494802               ribbon perfectli pretti \n",
       "460215                         harmonica box \n",
       "459669                     wooden box domino "
      ]
     },
     "execution_count": 69,
     "metadata": {},
     "output_type": "execute_result"
    }
   ],
   "source": [
    "text_prep = text_preprocess(extra_stopwords = extra_stopwords)\n",
    "df_products['ItemDescription'] = df_products['ItemDescription'].apply(text_prep)\n",
    "df_products.head(10)"
   ]
  },
  {
   "cell_type": "code",
   "execution_count": 70,
   "metadata": {
    "scrolled": false
   },
   "outputs": [],
   "source": [
    "max_features = 120 # taking most occurring 120 words\n",
    "index_list = df_products.index\n",
    "count_vec = CountVectorizer(max_features = max_features, stop_words = 'english', binary = True)\n",
    "description_matrix = count_vec.fit_transform(df_products['ItemDescription'])"
   ]
  },
  {
   "cell_type": "code",
   "execution_count": 71,
   "metadata": {
    "scrolled": false
   },
   "outputs": [],
   "source": [
    "columns = []\n",
    "idx_colname_dict = {value : key for key, value in count_vec.vocabulary_.items()} \n",
    "# dict from idx in description_matrix to word string\n",
    "\n",
    "for i in range(max_features):\n",
    "    columns.append(idx_colname_dict[i])\n",
    "    \n",
    "df_description = pd.DataFrame(description_matrix.todense(), columns = columns, index = index_list)"
   ]
  },
  {
   "cell_type": "code",
   "execution_count": 72,
   "metadata": {},
   "outputs": [
    {
     "name": "stdout",
     "output_type": "stream",
     "text": [
      "For n_clusters = 3 The average silhouette_score is : 0.088643018966798\n",
      "For n_clusters = 4 The average silhouette_score is : 0.09624934196265891\n",
      "For n_clusters = 5 The average silhouette_score is : 0.102263244589094\n",
      "For n_clusters = 6 The average silhouette_score is : 0.09995350455296353\n",
      "For n_clusters = 7 The average silhouette_score is : 0.11583287470882615\n",
      "For n_clusters = 8 The average silhouette_score is : 0.08642286062325297\n",
      "For n_clusters = 9 The average silhouette_score is : 0.09305523040156481\n"
     ]
    }
   ],
   "source": [
    "desc_matrix = df_description.values\n",
    "for n_clusters in range(3, 10):\n",
    "    \n",
    "    kmeans = KMeans(init = 'k-means++', n_clusters = n_clusters, n_init = 20, random_state = 7)\n",
    "    kmeans.fit(desc_matrix)\n",
    "    clusters = kmeans.predict(desc_matrix)\n",
    "    \n",
    "    silhouette_avg = silhouette_score(desc_matrix, clusters)\n",
    "    print(\"For n_clusters =\", n_clusters, \"The average silhouette_score is :\", silhouette_avg)\n",
    "    \n",
    "# We choose n_clusters = 8 (max. silhouette score)"
   ]
  },
  {
   "cell_type": "code",
   "execution_count": 73,
   "metadata": {},
   "outputs": [
    {
     "data": {
      "text/html": [
       "<div>\n",
       "<style scoped>\n",
       "    .dataframe tbody tr th:only-of-type {\n",
       "        vertical-align: middle;\n",
       "    }\n",
       "\n",
       "    .dataframe tbody tr th {\n",
       "        vertical-align: top;\n",
       "    }\n",
       "\n",
       "    .dataframe thead th {\n",
       "        text-align: right;\n",
       "    }\n",
       "</style>\n",
       "<table border=\"1\" class=\"dataframe\">\n",
       "  <thead>\n",
       "    <tr style=\"text-align: right;\">\n",
       "      <th></th>\n",
       "      <th>n_products</th>\n",
       "    </tr>\n",
       "    <tr>\n",
       "      <th>cluster_idx</th>\n",
       "      <th></th>\n",
       "    </tr>\n",
       "  </thead>\n",
       "  <tbody>\n",
       "    <tr>\n",
       "      <td>0</td>\n",
       "      <td>84</td>\n",
       "    </tr>\n",
       "    <tr>\n",
       "      <td>1</td>\n",
       "      <td>2301</td>\n",
       "    </tr>\n",
       "    <tr>\n",
       "      <td>2</td>\n",
       "      <td>183</td>\n",
       "    </tr>\n",
       "    <tr>\n",
       "      <td>3</td>\n",
       "      <td>218</td>\n",
       "    </tr>\n",
       "    <tr>\n",
       "      <td>4</td>\n",
       "      <td>192</td>\n",
       "    </tr>\n",
       "    <tr>\n",
       "      <td>5</td>\n",
       "      <td>55</td>\n",
       "    </tr>\n",
       "    <tr>\n",
       "      <td>6</td>\n",
       "      <td>105</td>\n",
       "    </tr>\n",
       "    <tr>\n",
       "      <td>7</td>\n",
       "      <td>71</td>\n",
       "    </tr>\n",
       "  </tbody>\n",
       "</table>\n",
       "</div>"
      ],
      "text/plain": [
       "             n_products\n",
       "cluster_idx            \n",
       "0                    84\n",
       "1                  2301\n",
       "2                   183\n",
       "3                   218\n",
       "4                   192\n",
       "5                    55\n",
       "6                   105\n",
       "7                    71"
      ]
     },
     "execution_count": 73,
     "metadata": {},
     "output_type": "execute_result"
    }
   ],
   "source": [
    "K = 8\n",
    "kmeans = KMeans(init = 'k-means++', n_clusters = K, n_init = 30, random_state = 7)\n",
    "kmeans.fit(desc_matrix)\n",
    "clusters = kmeans.predict(desc_matrix)\n",
    "\n",
    "(unique, counts) = np.unique(clusters, return_counts=True)\n",
    "frequencies = np.asarray((unique, counts)).T\n",
    "cluster_vc_df = pd.DataFrame(frequencies, columns = ['cluster_idx', 'n_products'])\n",
    "\n",
    "cluster_vc_df.set_index('cluster_idx') # number of products per cluster"
   ]
  },
  {
   "cell_type": "code",
   "execution_count": 74,
   "metadata": {},
   "outputs": [],
   "source": [
    "cluster_products = defaultdict(list) # to get product indices corresponding to cluster \n",
    "indices = df_description.index\n",
    "\n",
    "for i, cluster_num in enumerate(clusters):\n",
    "    cluster_products[cluster_num].append(indices[i])"
   ]
  },
  {
   "cell_type": "code",
   "execution_count": 75,
   "metadata": {},
   "outputs": [
    {
     "data": {
      "image/png": "[encoded data removed]",
      "text/plain": [
       "<Figure size 1080x1440 with 8 Axes>"
      ]
     },
     "metadata": {
      "needs_background": "light"
     },
     "output_type": "display_data"
    }
   ],
   "source": [
    "# Clustering visualization. Set vert = True for horizontal barchart, False for vertical barchart\n",
    "\n",
    "vert = False\n",
    "indices = df_description.columns\n",
    "\n",
    "if vert == True:\n",
    "    fig, axes = plt.subplots(1, K)\n",
    "    for i in range(K):\n",
    "        df_cluster_i = df_description.loc[cluster_products[i]]\n",
    "        total = df_cluster_i.sum(axis = 0)\n",
    "        axes[i].barh(y = range(len(total)), width = total)\n",
    "        axes[i].set_title('cluster ' + str(i + 1))\n",
    "        axes[i].set_xlim(0, 200)\n",
    "    \n",
    "    fig.set_figwidth(15)\n",
    "    fig.set_figheight(8)\n",
    "    plt.show()\n",
    "\n",
    "else:\n",
    "    fig, axes = plt.subplots(K, 1)\n",
    "    for i in range(K):\n",
    "        df_cluster_i = df_description.loc[cluster_products[i]]\n",
    "        total = df_cluster_i.sum(axis = 0)\n",
    "        axes[i].bar(x = range(len(total)), height = total)\n",
    "        axes[i].set_title('cluster ' + str(i + 1))\n",
    "        axes[i].set_ylim(0, 250)\n",
    "        if i < K - 1:\n",
    "            axes[i].set_xticks([])\n",
    "            \n",
    "    fig.set_figwidth(15)\n",
    "    fig.set_figheight(20)\n",
    "    plt.show()\n",
    "\n",
    "# Result: In any description, any specific word will only occur once (maximum twice). Since the peaks in the word \n",
    "#         count for each cluster are for different words, there is some useful clustering based on product description,\n",
    "#          although it is not perfect. If product tags were available, this clustering would not be required. "
   ]
  },
  {
   "cell_type": "code",
   "execution_count": 76,
   "metadata": {},
   "outputs": [
    {
     "name": "stdout",
     "output_type": "stream",
     "text": [
      "top 50 (stem) words: \n",
      "['heart', 'vintag', 'bag', 'box', 'christma', 'light', 'glass', 'decor', 'design', 'candl', 'metal', 'holder', 'retrospot', 'flower', 'hang', 'cake', 'card', 'rose', 'paper', 'silver', 'garden', 'wall', 'mug', 'green', 'star', 'egg', 'polkadot', 'sign', 'cover', 'assort', 'set', 'tin', 'mirror', 'necklac', 'ivori', 'mini', 'cream', 'wrap', 'tea', 'love', 'art', 'tree', 'wooden', 'frame', 'bowl', 'gift', 'zinc', 'cushion', 'easter', 'colour']\n"
     ]
    }
   ],
   "source": [
    "N = 50\n",
    "top_n = []\n",
    "feature_names = count_vec.get_feature_names()\n",
    "counts = np.asarray(description_matrix.sum(axis = 0))[0]\n",
    "top_n_idx = reversed(np.argsort(counts)[-N:])\n",
    "\n",
    "for idx in top_n_idx:\n",
    "    word = feature_names[idx]\n",
    "    top_n.append(word)\n",
    "    \n",
    "print(f'top {N} (stem) words: \\n{top_n}')"
   ]
  },
  {
   "cell_type": "code",
   "execution_count": 77,
   "metadata": {},
   "outputs": [
    {
     "name": "stderr",
     "output_type": "stream",
     "text": [
      "C:\\Users\\user\\Anaconda3\\lib\\site-packages\\numpy\\core\\fromnumeric.py:56: FutureWarning: Series.nonzero() is deprecated and will be removed in a future version.Use Series.to_numpy().nonzero() instead\n",
      "  return getattr(obj, method)(*args, **kwds)\n"
     ]
    }
   ],
   "source": [
    "cluster_words_list = []\n",
    "columns = df_description.columns\n",
    "\n",
    "for i in range(K):\n",
    "    df_cluster_i = df_description.loc[cluster_products[i]]\n",
    "    total_i = df_cluster_i.sum(axis = 0)\n",
    "    perc_i = total_i / counts\n",
    "    thresholded = np.argwhere(perc_i > 0.75)\n",
    "    \n",
    "    for idx in thresholded:\n",
    "        cluster_words_list.append({\n",
    "            'Cluster': i + 1, 'Word': columns[idx][0], \n",
    "            'Perc': perc_i[idx][0], 'Total': total_i[idx][0]\n",
    "        })\n"
   ]
  },
  {
   "cell_type": "code",
   "execution_count": 78,
   "metadata": {},
   "outputs": [
    {
     "data": {
      "text/html": [
       "<div>\n",
       "<style scoped>\n",
       "    .dataframe tbody tr th:only-of-type {\n",
       "        vertical-align: middle;\n",
       "    }\n",
       "\n",
       "    .dataframe tbody tr th {\n",
       "        vertical-align: top;\n",
       "    }\n",
       "\n",
       "    .dataframe thead th {\n",
       "        text-align: right;\n",
       "    }\n",
       "</style>\n",
       "<table border=\"1\" class=\"dataframe\">\n",
       "  <thead>\n",
       "    <tr style=\"text-align: right;\">\n",
       "      <th></th>\n",
       "      <th>Cluster</th>\n",
       "      <th>Word</th>\n",
       "      <th>Perc</th>\n",
       "      <th>Total</th>\n",
       "    </tr>\n",
       "  </thead>\n",
       "  <tbody>\n",
       "    <tr>\n",
       "      <td>0</td>\n",
       "      <td>4</td>\n",
       "      <td>heart</td>\n",
       "      <td>0.968889</td>\n",
       "      <td>218</td>\n",
       "    </tr>\n",
       "    <tr>\n",
       "      <td>1</td>\n",
       "      <td>3</td>\n",
       "      <td>vintag</td>\n",
       "      <td>0.968254</td>\n",
       "      <td>183</td>\n",
       "    </tr>\n",
       "    <tr>\n",
       "      <td>2</td>\n",
       "      <td>2</td>\n",
       "      <td>box</td>\n",
       "      <td>0.861314</td>\n",
       "      <td>118</td>\n",
       "    </tr>\n",
       "    <tr>\n",
       "      <td>3</td>\n",
       "      <td>2</td>\n",
       "      <td>bag</td>\n",
       "      <td>0.758865</td>\n",
       "      <td>107</td>\n",
       "    </tr>\n",
       "    <tr>\n",
       "      <td>4</td>\n",
       "      <td>5</td>\n",
       "      <td>glass</td>\n",
       "      <td>0.921739</td>\n",
       "      <td>106</td>\n",
       "    </tr>\n",
       "    <tr>\n",
       "      <td>...</td>\n",
       "      <td>...</td>\n",
       "      <td>...</td>\n",
       "      <td>...</td>\n",
       "      <td>...</td>\n",
       "    </tr>\n",
       "    <tr>\n",
       "      <td>71</td>\n",
       "      <td>2</td>\n",
       "      <td>notebook</td>\n",
       "      <td>0.785714</td>\n",
       "      <td>22</td>\n",
       "    </tr>\n",
       "    <tr>\n",
       "      <td>72</td>\n",
       "      <td>2</td>\n",
       "      <td>children</td>\n",
       "      <td>0.814815</td>\n",
       "      <td>22</td>\n",
       "    </tr>\n",
       "    <tr>\n",
       "      <td>73</td>\n",
       "      <td>2</td>\n",
       "      <td>hot</td>\n",
       "      <td>0.840000</td>\n",
       "      <td>21</td>\n",
       "    </tr>\n",
       "    <tr>\n",
       "      <td>74</td>\n",
       "      <td>2</td>\n",
       "      <td>purs</td>\n",
       "      <td>0.833333</td>\n",
       "      <td>20</td>\n",
       "    </tr>\n",
       "    <tr>\n",
       "      <td>75</td>\n",
       "      <td>2</td>\n",
       "      <td>cat</td>\n",
       "      <td>0.833333</td>\n",
       "      <td>20</td>\n",
       "    </tr>\n",
       "  </tbody>\n",
       "</table>\n",
       "<p>76 rows × 4 columns</p>\n",
       "</div>"
      ],
      "text/plain": [
       "    Cluster      Word      Perc  Total\n",
       "0         4     heart  0.968889    218\n",
       "1         3    vintag  0.968254    183\n",
       "2         2       box  0.861314    118\n",
       "3         2       bag  0.758865    107\n",
       "4         5     glass  0.921739    106\n",
       "..      ...       ...       ...    ...\n",
       "71        2  notebook  0.785714     22\n",
       "72        2  children  0.814815     22\n",
       "73        2       hot  0.840000     21\n",
       "74        2      purs  0.833333     20\n",
       "75        2       cat  0.833333     20\n",
       "\n",
       "[76 rows x 4 columns]"
      ]
     },
     "execution_count": 78,
     "metadata": {},
     "output_type": "execute_result"
    }
   ],
   "source": [
    "clustering_results = pd.DataFrame(cluster_words_list).sort_values('Total', ascending = False).reset_index(drop = True)\n",
    "clustering_results \n",
    "\n",
    "# Results: Single clusters have been able to capture more than 75% occurrences of these 76 out of 120 words.  \n",
    "#          The total occurrences of each word is also shown. The clustering has not just been able to categorize\n",
    "#          words that occur only a few times (results are sorted by total occurrence count). "
   ]
  },
  {
   "cell_type": "code",
   "execution_count": 79,
   "metadata": {},
   "outputs": [
    {
     "data": {
      "text/plain": [
       "37"
      ]
     },
     "execution_count": 79,
     "metadata": {},
     "output_type": "execute_result"
    }
   ],
   "source": [
    "clustering_results['Word'].isin(top_n).sum() \n",
    "\n",
    "# Result: The number of words in top 50 (N) that have been cleanly (>75%) assigned to a cluster. So, \n",
    "#         the most popular words have been cleanly clustered into specific categories. Thus products \n",
    "#         with these word occurrences will be clustered well based on the product description.  "
   ]
  },
  {
   "cell_type": "code",
   "execution_count": 80,
   "metadata": {
    "scrolled": true
   },
   "outputs": [
    {
     "name": "stderr",
     "output_type": "stream",
     "text": [
      "C:\\Users\\user\\Anaconda3\\lib\\site-packages\\ipykernel_launcher.py:9: SettingWithCopyWarning: \n",
      "A value is trying to be set on a copy of a slice from a DataFrame.\n",
      "Try using .loc[row_indexer,col_indexer] = value instead\n",
      "\n",
      "See the caveats in the documentation: http://pandas.pydata.org/pandas-docs/stable/user_guide/indexing.html#returning-a-view-versus-a-copy\n",
      "  if __name__ == '__main__':\n"
     ]
    }
   ],
   "source": [
    "df_list_dicts = []\n",
    "index_names = []\n",
    "for (user, group) in df_gpby:\n",
    "    user_dict = dict()\n",
    "    index_names.append(user)\n",
    "    for k in range(K):\n",
    "        products = cluster_products[k]\n",
    "        group_cluster_k = group.loc[group['ItemCode'].isin(products)]\n",
    "        group_cluster_k['total'] = group_cluster_k['CostPerItem'] * group_cluster_k['NumberOfItemsPurchased']\n",
    "        user_dict['categ' + str(k + 1)] = group_cluster_k['total'].sum()\n",
    "    df_list_dicts.append(user_dict)"
   ]
  },
  {
   "cell_type": "code",
   "execution_count": 81,
   "metadata": {
    "scrolled": true
   },
   "outputs": [
    {
     "data": {
      "text/html": [
       "<div>\n",
       "<style scoped>\n",
       "    .dataframe tbody tr th:only-of-type {\n",
       "        vertical-align: middle;\n",
       "    }\n",
       "\n",
       "    .dataframe tbody tr th {\n",
       "        vertical-align: top;\n",
       "    }\n",
       "\n",
       "    .dataframe thead th {\n",
       "        text-align: right;\n",
       "    }\n",
       "</style>\n",
       "<table border=\"1\" class=\"dataframe\">\n",
       "  <thead>\n",
       "    <tr style=\"text-align: right;\">\n",
       "      <th></th>\n",
       "      <th>n_transactions</th>\n",
       "      <th>transaction_hour</th>\n",
       "      <th>Mean</th>\n",
       "      <th>Min</th>\n",
       "      <th>Max</th>\n",
       "      <th>returned</th>\n",
       "      <th>cancelled</th>\n",
       "      <th>Africa</th>\n",
       "      <th>Asia</th>\n",
       "      <th>Europe</th>\n",
       "      <th>...</th>\n",
       "      <th>cl_total_unique</th>\n",
       "      <th>days_since</th>\n",
       "      <th>categ1</th>\n",
       "      <th>categ2</th>\n",
       "      <th>categ3</th>\n",
       "      <th>categ4</th>\n",
       "      <th>categ5</th>\n",
       "      <th>categ6</th>\n",
       "      <th>categ7</th>\n",
       "      <th>categ8</th>\n",
       "    </tr>\n",
       "    <tr>\n",
       "      <th>UserId</th>\n",
       "      <th></th>\n",
       "      <th></th>\n",
       "      <th></th>\n",
       "      <th></th>\n",
       "      <th></th>\n",
       "      <th></th>\n",
       "      <th></th>\n",
       "      <th></th>\n",
       "      <th></th>\n",
       "      <th></th>\n",
       "      <th></th>\n",
       "      <th></th>\n",
       "      <th></th>\n",
       "      <th></th>\n",
       "      <th></th>\n",
       "      <th></th>\n",
       "      <th></th>\n",
       "      <th></th>\n",
       "      <th></th>\n",
       "      <th></th>\n",
       "      <th></th>\n",
       "    </tr>\n",
       "  </thead>\n",
       "  <tbody>\n",
       "    <tr>\n",
       "      <td>272517</td>\n",
       "      <td>9</td>\n",
       "      <td>12.000</td>\n",
       "      <td>18.060000</td>\n",
       "      <td>1.62</td>\n",
       "      <td>82.80</td>\n",
       "      <td>0</td>\n",
       "      <td>0</td>\n",
       "      <td>0</td>\n",
       "      <td>0</td>\n",
       "      <td>1</td>\n",
       "      <td>...</td>\n",
       "      <td>1</td>\n",
       "      <td>441.0</td>\n",
       "      <td>0.00</td>\n",
       "      <td>53.01</td>\n",
       "      <td>109.53</td>\n",
       "      <td>0.00</td>\n",
       "      <td>0.00</td>\n",
       "      <td>0.0</td>\n",
       "      <td>0.00</td>\n",
       "      <td>0.00</td>\n",
       "    </tr>\n",
       "    <tr>\n",
       "      <td>315546</td>\n",
       "      <td>60</td>\n",
       "      <td>9.100</td>\n",
       "      <td>32.085000</td>\n",
       "      <td>5.19</td>\n",
       "      <td>316.71</td>\n",
       "      <td>0</td>\n",
       "      <td>0</td>\n",
       "      <td>0</td>\n",
       "      <td>0</td>\n",
       "      <td>1</td>\n",
       "      <td>...</td>\n",
       "      <td>3</td>\n",
       "      <td>525.0</td>\n",
       "      <td>37.44</td>\n",
       "      <td>699.51</td>\n",
       "      <td>519.72</td>\n",
       "      <td>278.88</td>\n",
       "      <td>139.38</td>\n",
       "      <td>34.8</td>\n",
       "      <td>215.37</td>\n",
       "      <td>0.00</td>\n",
       "    </tr>\n",
       "    <tr>\n",
       "      <td>329889</td>\n",
       "      <td>6</td>\n",
       "      <td>6.000</td>\n",
       "      <td>92.395000</td>\n",
       "      <td>67.77</td>\n",
       "      <td>158.76</td>\n",
       "      <td>0</td>\n",
       "      <td>0</td>\n",
       "      <td>0</td>\n",
       "      <td>0</td>\n",
       "      <td>1</td>\n",
       "      <td>...</td>\n",
       "      <td>1</td>\n",
       "      <td>568.0</td>\n",
       "      <td>0.00</td>\n",
       "      <td>289.05</td>\n",
       "      <td>0.00</td>\n",
       "      <td>158.76</td>\n",
       "      <td>106.56</td>\n",
       "      <td>0.0</td>\n",
       "      <td>0.00</td>\n",
       "      <td>0.00</td>\n",
       "    </tr>\n",
       "    <tr>\n",
       "      <td>344232</td>\n",
       "      <td>43</td>\n",
       "      <td>8.000</td>\n",
       "      <td>21.035581</td>\n",
       "      <td>2.28</td>\n",
       "      <td>92.04</td>\n",
       "      <td>0</td>\n",
       "      <td>0</td>\n",
       "      <td>0</td>\n",
       "      <td>0</td>\n",
       "      <td>1</td>\n",
       "      <td>...</td>\n",
       "      <td>1</td>\n",
       "      <td>554.0</td>\n",
       "      <td>28.32</td>\n",
       "      <td>650.40</td>\n",
       "      <td>115.59</td>\n",
       "      <td>34.80</td>\n",
       "      <td>0.00</td>\n",
       "      <td>0.0</td>\n",
       "      <td>31.14</td>\n",
       "      <td>44.28</td>\n",
       "    </tr>\n",
       "    <tr>\n",
       "      <td>358575</td>\n",
       "      <td>80</td>\n",
       "      <td>8.275</td>\n",
       "      <td>44.914286</td>\n",
       "      <td>1.74</td>\n",
       "      <td>246.33</td>\n",
       "      <td>0</td>\n",
       "      <td>0</td>\n",
       "      <td>0</td>\n",
       "      <td>0</td>\n",
       "      <td>1</td>\n",
       "      <td>...</td>\n",
       "      <td>4</td>\n",
       "      <td>275.0</td>\n",
       "      <td>208.38</td>\n",
       "      <td>1694.58</td>\n",
       "      <td>518.49</td>\n",
       "      <td>356.88</td>\n",
       "      <td>286.65</td>\n",
       "      <td>0.0</td>\n",
       "      <td>235.62</td>\n",
       "      <td>157.80</td>\n",
       "    </tr>\n",
       "  </tbody>\n",
       "</table>\n",
       "<p>5 rows × 25 columns</p>\n",
       "</div>"
      ],
      "text/plain": [
       "        n_transactions  transaction_hour       Mean    Min     Max  returned  \\\n",
       "UserId                                                                         \n",
       "272517               9            12.000  18.060000   1.62   82.80         0   \n",
       "315546              60             9.100  32.085000   5.19  316.71         0   \n",
       "329889               6             6.000  92.395000  67.77  158.76         0   \n",
       "344232              43             8.000  21.035581   2.28   92.04         0   \n",
       "358575              80             8.275  44.914286   1.74  246.33         0   \n",
       "\n",
       "        cancelled  Africa  Asia  Europe  ...  cl_total_unique  days_since  \\\n",
       "UserId                                   ...                                \n",
       "272517          0       0     0       1  ...                1       441.0   \n",
       "315546          0       0     0       1  ...                3       525.0   \n",
       "329889          0       0     0       1  ...                1       568.0   \n",
       "344232          0       0     0       1  ...                1       554.0   \n",
       "358575          0       0     0       1  ...                4       275.0   \n",
       "\n",
       "        categ1   categ2  categ3  categ4  categ5  categ6  categ7  categ8  \n",
       "UserId                                                                   \n",
       "272517    0.00    53.01  109.53    0.00    0.00     0.0    0.00    0.00  \n",
       "315546   37.44   699.51  519.72  278.88  139.38    34.8  215.37    0.00  \n",
       "329889    0.00   289.05    0.00  158.76  106.56     0.0    0.00    0.00  \n",
       "344232   28.32   650.40  115.59   34.80    0.00     0.0   31.14   44.28  \n",
       "358575  208.38  1694.58  518.49  356.88  286.65     0.0  235.62  157.80  \n",
       "\n",
       "[5 rows x 25 columns]"
      ]
     },
     "execution_count": 81,
     "metadata": {},
     "output_type": "execute_result"
    }
   ],
   "source": [
    "df_categ_spent = pd.DataFrame(df_list_dicts, index = index_names)\n",
    "users = users.join(df_categ_spent)\n",
    "users.head()"
   ]
  },
  {
   "cell_type": "markdown",
   "metadata": {},
   "source": [
    "### Clustering customers"
   ]
  },
  {
   "cell_type": "code",
   "execution_count": 82,
   "metadata": {},
   "outputs": [],
   "source": [
    "scaler = MinMaxScaler() # scale each column to [0, 1]\n",
    "users_scaled = scaler.fit_transform(users)"
   ]
  },
  {
   "cell_type": "code",
   "execution_count": 83,
   "metadata": {},
   "outputs": [
    {
     "name": "stdout",
     "output_type": "stream",
     "text": [
      "For n_clusters = 2 The average silhouette_score is : 0.35989897022489054\n",
      "For n_clusters = 3 The average silhouette_score is : 0.2901603329678905\n",
      "For n_clusters = 4 The average silhouette_score is : 0.29912301739534347\n",
      "For n_clusters = 5 The average silhouette_score is : 0.3135763935048687\n",
      "For n_clusters = 6 The average silhouette_score is : 0.29039659814268437\n",
      "For n_clusters = 7 The average silhouette_score is : 0.30697017704664664\n",
      "For n_clusters = 8 The average silhouette_score is : 0.31031883958861745\n",
      "For n_clusters = 9 The average silhouette_score is : 0.3049794648378779\n"
     ]
    }
   ],
   "source": [
    "users_matrix = users_scaled\n",
    "for n_clusters in range(2, 10):\n",
    "    \n",
    "    kmeans = KMeans(init = 'k-means++', n_clusters = n_clusters, n_init = 20, random_state = 7)\n",
    "    clusters = kmeans.fit_predict(users_matrix)\n",
    "    silhouette_avg = silhouette_score(users_matrix, clusters)\n",
    "    print(\"For n_clusters =\", n_clusters, \"The average silhouette_score is :\", silhouette_avg)\n",
    "\n",
    "# Better than before - continent information probably skews the points towards Europe which has \n",
    "# the majority of users. But there is probably large variation within users of europe"
   ]
  },
  {
   "cell_type": "code",
   "execution_count": 84,
   "metadata": {},
   "outputs": [
    {
     "data": {
      "text/plain": [
       "Counter({0: 2944, 1: 1419})"
      ]
     },
     "execution_count": 84,
     "metadata": {},
     "output_type": "execute_result"
    }
   ],
   "source": [
    "kmeans = KMeans(init = 'k-means++', n_clusters = 2, n_init = 20, random_state = 7)\n",
    "kmeans.fit(users_matrix)\n",
    "clusters = kmeans.predict(users_matrix)\n",
    "\n",
    "Counter(clusters)"
   ]
  },
  {
   "cell_type": "markdown",
   "metadata": {},
   "source": [
    "### Feature selection"
   ]
  },
  {
   "cell_type": "code",
   "execution_count": 85,
   "metadata": {},
   "outputs": [],
   "source": [
    "def silhouette_analysis(X, cluster_labels):\n",
    "    \n",
    "    y_lower = 10\n",
    "    n_clusters = len(np.unique(cluster_labels))\n",
    "    silhouette_values = silhouette_samples(X, cluster_labels)\n",
    "    \n",
    "    for i in range(n_clusters):\n",
    "        \n",
    "        # Aggregate the silhouette scores for samples belonging to\n",
    "        # cluster i, and sort them\n",
    "        ith_cluster_silhouette_values = silhouette_values[cluster_labels == i]\n",
    "        ith_cluster_silhouette_values.sort()\n",
    "\n",
    "        size_cluster_i = ith_cluster_silhouette_values.shape[0]\n",
    "        y_upper = y_lower + size_cluster_i\n",
    "\n",
    "        color = cm.nipy_spectral(float(i) / n_clusters)\n",
    "        plt.fill_betweenx(np.arange(y_lower, y_upper),\n",
    "                          0, ith_cluster_silhouette_values,\n",
    "                          facecolor = color, edgecolor = color, alpha = 0.7)\n",
    "\n",
    "        # Label the silhouette plots with their cluster numbers at the middle\n",
    "        plt.text(-0.025, y_lower + 0.5 * size_cluster_i, str(i + 1))\n",
    "\n",
    "        # Compute the new y_lower for next plot\n",
    "        y_lower = y_upper + 10  # 10 for the 0 samples\n",
    "    \n",
    "    plt.title('Silhouette plot')\n",
    "    plt.plot()"
   ]
  },
  {
   "cell_type": "markdown",
   "metadata": {},
   "source": [
    "#### Drop continents"
   ]
  },
  {
   "cell_type": "code",
   "execution_count": 86,
   "metadata": {},
   "outputs": [],
   "source": [
    "users_cont = users.drop(columns = ['Africa', 'Asia', 'Europe', 'North America', 'Australia', 'South America'])\n",
    "users_scaled = scaler.fit_transform(users_cont)"
   ]
  },
  {
   "cell_type": "code",
   "execution_count": 87,
   "metadata": {},
   "outputs": [
    {
     "name": "stdout",
     "output_type": "stream",
     "text": [
      "For n_clusters = 2 The average silhouette_score is : 0.3877782757073806\n",
      "For n_clusters = 3 The average silhouette_score is : 0.2995339478838765\n",
      "For n_clusters = 4 The average silhouette_score is : 0.3142244927400388\n",
      "For n_clusters = 5 The average silhouette_score is : 0.29178400865127563\n",
      "For n_clusters = 6 The average silhouette_score is : 0.3076960920460004\n",
      "For n_clusters = 7 The average silhouette_score is : 0.3024712800182187\n",
      "For n_clusters = 8 The average silhouette_score is : 0.3043302864911866\n",
      "For n_clusters = 9 The average silhouette_score is : 0.2815375611875726\n"
     ]
    }
   ],
   "source": [
    "users_matrix = users_scaled\n",
    "for n_clusters in range(2, 10):\n",
    "    \n",
    "    kmeans = KMeans(init = 'k-means++', n_clusters = n_clusters, n_init = 20, random_state = 7)\n",
    "    clusters = kmeans.fit_predict(users_matrix)\n",
    "    silhouette_avg = silhouette_score(users_matrix, clusters)\n",
    "    print(\"For n_clusters =\", n_clusters, \"The average silhouette_score is :\", silhouette_avg)\n",
    "\n",
    "# Better than before - continent information probably skews the points towards Europe which has \n",
    "# the majority of users. But there is probably large variation within users of europe"
   ]
  },
  {
   "cell_type": "code",
   "execution_count": 88,
   "metadata": {},
   "outputs": [
    {
     "data": {
      "text/plain": [
       "Counter({0: 3038, 1: 1325})"
      ]
     },
     "execution_count": 88,
     "metadata": {},
     "output_type": "execute_result"
    }
   ],
   "source": [
    "users_matrix = users_scaled\n",
    "kmeans = KMeans(init = 'k-means++', n_clusters = 2, n_init = 20, random_state = 7)\n",
    "clusters = kmeans.fit_predict(users_matrix)\n",
    "\n",
    "Counter(clusters)"
   ]
  },
  {
   "cell_type": "code",
   "execution_count": 89,
   "metadata": {},
   "outputs": [
    {
     "data": {
      "image/png": "[encoded data removed]",
      "text/plain": [
       "<Figure size 432x288 with 1 Axes>"
      ]
     },
     "metadata": {
      "needs_background": "light"
     },
     "output_type": "display_data"
    }
   ],
   "source": [
    "silhouette_analysis(users_matrix, clusters)\n",
    "\n",
    "# Conclusion: The negative sign of silhouette values indicates outliers. Cluster 2 has captured some outliers"
   ]
  },
  {
   "cell_type": "markdown",
   "metadata": {},
   "source": [
    "#### Drop 'days_since'"
   ]
  },
  {
   "cell_type": "code",
   "execution_count": 90,
   "metadata": {},
   "outputs": [],
   "source": [
    "users_since = users.drop(columns = ['days_since'])\n",
    "users_scaled = scaler.fit_transform(users_since)"
   ]
  },
  {
   "cell_type": "code",
   "execution_count": 91,
   "metadata": {},
   "outputs": [
    {
     "name": "stdout",
     "output_type": "stream",
     "text": [
      "For n_clusters = 2 The average silhouette_score is : 0.4740342213426736\n",
      "For n_clusters = 3 The average silhouette_score is : 0.4538475852593804\n",
      "For n_clusters = 4 The average silhouette_score is : 0.3818625600000755\n",
      "For n_clusters = 5 The average silhouette_score is : 0.39560080001490644\n",
      "For n_clusters = 6 The average silhouette_score is : 0.3992933411262268\n",
      "For n_clusters = 7 The average silhouette_score is : 0.3726150114082309\n",
      "For n_clusters = 8 The average silhouette_score is : 0.37498077226488685\n",
      "For n_clusters = 9 The average silhouette_score is : 0.38119344497510266\n"
     ]
    }
   ],
   "source": [
    "users_matrix = users_scaled\n",
    "for n_clusters in range(2, 10):\n",
    "    \n",
    "    kmeans = KMeans(init = 'k-means++', n_clusters = n_clusters, n_init = 20, random_state = 7)\n",
    "    clusters = kmeans.fit_predict(users_matrix)\n",
    "    silhouette_avg = silhouette_score(users_matrix, clusters)\n",
    "    print(\"For n_clusters =\", n_clusters, \"The average silhouette_score is :\", silhouette_avg)\n"
   ]
  },
  {
   "cell_type": "code",
   "execution_count": 92,
   "metadata": {},
   "outputs": [
    {
     "data": {
      "text/plain": [
       "Counter({0: 3302, 1: 1008, 2: 53})"
      ]
     },
     "execution_count": 92,
     "metadata": {},
     "output_type": "execute_result"
    }
   ],
   "source": [
    "users_matrix = users_scaled\n",
    "kmeans = KMeans(init = 'k-means++', n_clusters = 3, n_init = 20, random_state = 7)\n",
    "clusters = kmeans.fit_predict(users_matrix)\n",
    "\n",
    "Counter(clusters)"
   ]
  },
  {
   "cell_type": "code",
   "execution_count": 93,
   "metadata": {},
   "outputs": [
    {
     "data": {
      "image/png": "[encoded data removed]",
      "text/plain": [
       "<Figure size 432x288 with 1 Axes>"
      ]
     },
     "metadata": {
      "needs_background": "light"
     },
     "output_type": "display_data"
    }
   ],
   "source": [
    "silhouette_analysis(users_matrix, clusters)\n",
    "\n",
    "# Conclusion: There are no outliers here. Possibly, cluster 2 has captured them"
   ]
  },
  {
   "cell_type": "markdown",
   "metadata": {},
   "source": [
    "#### Drop continents and days_since"
   ]
  },
  {
   "cell_type": "code",
   "execution_count": 94,
   "metadata": {},
   "outputs": [],
   "source": [
    "users_cont_since = users.drop(columns = ['Asia', 'Africa', 'Europe', 'North America', 'South America', 'Australia', 'days_since'])\n",
    "users_scaled = scaler.fit_transform(users_cont_since)"
   ]
  },
  {
   "cell_type": "code",
   "execution_count": 95,
   "metadata": {},
   "outputs": [
    {
     "name": "stdout",
     "output_type": "stream",
     "text": [
      "For n_clusters = 2 The average silhouette_score is : 0.49935476731814066\n",
      "For n_clusters = 3 The average silhouette_score is : 0.38366614699044205\n",
      "For n_clusters = 4 The average silhouette_score is : 0.3971940937638577\n",
      "For n_clusters = 5 The average silhouette_score is : 0.36100899917275886\n",
      "For n_clusters = 6 The average silhouette_score is : 0.37737390999842885\n",
      "For n_clusters = 7 The average silhouette_score is : 0.3649209018790929\n",
      "For n_clusters = 8 The average silhouette_score is : 0.37496409283473897\n",
      "For n_clusters = 9 The average silhouette_score is : 0.3758414040439089\n"
     ]
    }
   ],
   "source": [
    "users_matrix = users_scaled\n",
    "for n_clusters in range(2, 10):\n",
    "    \n",
    "    kmeans = KMeans(init = 'k-means++', n_clusters = n_clusters, n_init = 20, random_state = 7)\n",
    "    clusters = kmeans.fit_predict(users_matrix)\n",
    "    silhouette_avg = silhouette_score(users_matrix, clusters)\n",
    "    print(\"For n_clusters =\", n_clusters, \"The average silhouette_score is :\", silhouette_avg)\n"
   ]
  },
  {
   "cell_type": "code",
   "execution_count": 96,
   "metadata": {},
   "outputs": [
    {
     "data": {
      "text/plain": [
       "Counter({0: 3626, 1: 737})"
      ]
     },
     "execution_count": 96,
     "metadata": {},
     "output_type": "execute_result"
    }
   ],
   "source": [
    "users_matrix = users_scaled\n",
    "kmeans = KMeans(init = 'k-means++', n_clusters = 2, n_init = 20, random_state = 7)\n",
    "clusters = kmeans.fit_predict(users_matrix)\n",
    "\n",
    "Counter(clusters)"
   ]
  },
  {
   "cell_type": "code",
   "execution_count": 97,
   "metadata": {},
   "outputs": [
    {
     "data": {
      "image/png": "[encoded data removed]",
      "text/plain": [
       "<Figure size 432x288 with 1 Axes>"
      ]
     },
     "metadata": {
      "needs_background": "light"
     },
     "output_type": "display_data"
    }
   ],
   "source": [
    "silhouette_analysis(users_matrix, clusters)"
   ]
  },
  {
   "cell_type": "markdown",
   "metadata": {},
   "source": [
    "### Result\n",
    "* Best result was obtained by excluding continent information as well as days since last purchase feature\n",
    "* The optimal number of clusters corresponding to best silhoette score is 2 using KMeans clustering. "
   ]
  },
  {
   "cell_type": "code",
   "execution_count": 98,
   "metadata": {},
   "outputs": [
    {
     "data": {
      "text/plain": [
       "Counter({0: 3626, 1: 737})"
      ]
     },
     "execution_count": 98,
     "metadata": {},
     "output_type": "execute_result"
    }
   ],
   "source": [
    "kmeans = KMeans(init = 'k-means++', n_clusters = 2, n_init = 20, random_state = 7)\n",
    "clusters = kmeans.fit_predict(users_scaled)\n",
    "clusters\n",
    "\n",
    "Counter(clusters)"
   ]
  },
  {
   "cell_type": "code",
   "execution_count": 99,
   "metadata": {},
   "outputs": [],
   "source": [
    "df_dict = zip(users.index, clusters + 1)\n",
    "df_result = pd.DataFrame(df_dict, columns = ['UserId', 'ClusterId'])\n",
    "df_result.to_csv('results.csv')"
   ]
  },
  {
   "cell_type": "code",
   "execution_count": null,
   "metadata": {},
   "outputs": [],
   "source": []
  }
 ],
 "metadata": {
  "kernelspec": {
   "display_name": "Python 3",
   "language": "python",
   "name": "python3"
  },
  "toc": {
   "base_numbering": 1,
   "nav_menu": {},
   "number_sections": true,
   "sideBar": true,
   "skip_h1_title": false,
   "title_cell": "Table of Contents",
   "title_sidebar": "Contents",
   "toc_cell": false,
   "toc_position": {},
   "toc_section_display": true,
   "toc_window_display": false
  },
  "varInspector": {
   "cols": {
    "lenName": 16,
    "lenType": 16,
    "lenVar": 40
   },
   "kernels_config": {
    "python": {
     "delete_cmd_postfix": "",
     "delete_cmd_prefix": "del ",
     "library": "var_list.py",
     "varRefreshCmd": "print(var_dic_list())"
    },
    "r": {
     "delete_cmd_postfix": ") ",
     "delete_cmd_prefix": "rm(",
     "library": "var_list.r",
     "varRefreshCmd": "cat(var_dic_list()) "
    }
   },
   "types_to_exclude": [
    "module",
    "function",
    "builtin_function_or_method",
    "instance",
    "_Feature"
   ],
   "window_display": false
  }
 },
 "nbformat": 4,
 "nbformat_minor": 2
}
